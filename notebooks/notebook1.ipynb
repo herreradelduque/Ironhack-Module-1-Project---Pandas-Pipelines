{
 "cells": [
  {
   "cell_type": "code",
   "execution_count": 1,
   "metadata": {},
   "outputs": [],
   "source": [
    "import pandas as pd\n",
    "import numpy as np"
   ]
  },
  {
   "cell_type": "code",
   "execution_count": 2,
   "metadata": {},
   "outputs": [],
   "source": [
    "from sqlalchemy import create_engine"
   ]
  },
  {
   "cell_type": "code",
   "execution_count": 3,
   "metadata": {},
   "outputs": [],
   "source": [
    "pd.set_option('display.max_rows', 13)\n",
    "pd.set_option('display.max_columns', 13)"
   ]
  },
  {
   "cell_type": "code",
   "execution_count": 4,
   "metadata": {},
   "outputs": [],
   "source": [
    "sqlitedb_path = '../data/raw/herreradelduque.db'\n",
    "engine = create_engine(f'sqlite:///{sqlitedb_path}')"
   ]
  },
  {
   "cell_type": "code",
   "execution_count": 5,
   "metadata": {},
   "outputs": [
    {
     "data": {
      "text/html": [
       "<div>\n",
       "<style scoped>\n",
       "    .dataframe tbody tr th:only-of-type {\n",
       "        vertical-align: middle;\n",
       "    }\n",
       "\n",
       "    .dataframe tbody tr th {\n",
       "        vertical-align: top;\n",
       "    }\n",
       "\n",
       "    .dataframe thead th {\n",
       "        text-align: right;\n",
       "    }\n",
       "</style>\n",
       "<table border=\"1\" class=\"dataframe\">\n",
       "  <thead>\n",
       "    <tr style=\"text-align: right;\">\n",
       "      <th></th>\n",
       "      <th>type</th>\n",
       "      <th>name</th>\n",
       "      <th>tbl_name</th>\n",
       "      <th>rootpage</th>\n",
       "      <th>sql</th>\n",
       "    </tr>\n",
       "  </thead>\n",
       "  <tbody>\n",
       "    <tr>\n",
       "      <th>0</th>\n",
       "      <td>table</td>\n",
       "      <td>rank_info</td>\n",
       "      <td>rank_info</td>\n",
       "      <td>2</td>\n",
       "      <td>CREATE TABLE rank_info (\\n\\tid BIGINT NOT NULL...</td>\n",
       "    </tr>\n",
       "    <tr>\n",
       "      <th>1</th>\n",
       "      <td>table</td>\n",
       "      <td>personal_info</td>\n",
       "      <td>personal_info</td>\n",
       "      <td>34</td>\n",
       "      <td>CREATE TABLE personal_info (\\n\\tid BIGINT NOT ...</td>\n",
       "    </tr>\n",
       "    <tr>\n",
       "      <th>2</th>\n",
       "      <td>table</td>\n",
       "      <td>business_info</td>\n",
       "      <td>business_info</td>\n",
       "      <td>155</td>\n",
       "      <td>CREATE TABLE business_info (\\n\\tid BIGINT NOT ...</td>\n",
       "    </tr>\n",
       "  </tbody>\n",
       "</table>\n",
       "</div>"
      ],
      "text/plain": [
       "    type           name       tbl_name  rootpage  \\\n",
       "0  table      rank_info      rank_info         2   \n",
       "1  table  personal_info  personal_info        34   \n",
       "2  table  business_info  business_info       155   \n",
       "\n",
       "                                                 sql  \n",
       "0  CREATE TABLE rank_info (\\n\\tid BIGINT NOT NULL...  \n",
       "1  CREATE TABLE personal_info (\\n\\tid BIGINT NOT ...  \n",
       "2  CREATE TABLE business_info (\\n\\tid BIGINT NOT ...  "
      ]
     },
     "execution_count": 5,
     "metadata": {},
     "output_type": "execute_result"
    }
   ],
   "source": [
    "pd.read_sql_query(\"SELECT * FROM sqlite_master WHERE type='table'\", engine)"
   ]
  },
  {
   "cell_type": "code",
   "execution_count": 6,
   "metadata": {},
   "outputs": [
    {
     "data": {
      "text/html": [
       "<div>\n",
       "<style scoped>\n",
       "    .dataframe tbody tr th:only-of-type {\n",
       "        vertical-align: middle;\n",
       "    }\n",
       "\n",
       "    .dataframe tbody tr th {\n",
       "        vertical-align: top;\n",
       "    }\n",
       "\n",
       "    .dataframe thead th {\n",
       "        text-align: right;\n",
       "    }\n",
       "</style>\n",
       "<table border=\"1\" class=\"dataframe\">\n",
       "  <thead>\n",
       "    <tr style=\"text-align: right;\">\n",
       "      <th></th>\n",
       "      <th>id</th>\n",
       "      <th>name</th>\n",
       "      <th>position</th>\n",
       "      <th>Unnamed: 0</th>\n",
       "    </tr>\n",
       "  </thead>\n",
       "  <tbody>\n",
       "    <tr>\n",
       "      <th>0</th>\n",
       "      <td>5788</td>\n",
       "      <td>anant asavABHOKHIN &amp; FAmily</td>\n",
       "      <td>NaN</td>\n",
       "      <td>0</td>\n",
       "    </tr>\n",
       "    <tr>\n",
       "      <th>1</th>\n",
       "      <td>1023</td>\n",
       "      <td>aRASH FERDowsi</td>\n",
       "      <td>NaN</td>\n",
       "      <td>1</td>\n",
       "    </tr>\n",
       "    <tr>\n",
       "      <th>2</th>\n",
       "      <td>6230</td>\n",
       "      <td>banthoon LAMSAM &amp; FAmily</td>\n",
       "      <td>NaN</td>\n",
       "      <td>2</td>\n",
       "    </tr>\n",
       "    <tr>\n",
       "      <th>3</th>\n",
       "      <td>4073</td>\n",
       "      <td>bill adderLEY &amp; family</td>\n",
       "      <td>NaN</td>\n",
       "      <td>3</td>\n",
       "    </tr>\n",
       "    <tr>\n",
       "      <th>4</th>\n",
       "      <td>7648</td>\n",
       "      <td>boris ZINGARevich</td>\n",
       "      <td>NaN</td>\n",
       "      <td>4</td>\n",
       "    </tr>\n",
       "    <tr>\n",
       "      <th>...</th>\n",
       "      <td>...</td>\n",
       "      <td>...</td>\n",
       "      <td>...</td>\n",
       "      <td>...</td>\n",
       "    </tr>\n",
       "    <tr>\n",
       "      <th>2255</th>\n",
       "      <td>5027</td>\n",
       "      <td>zhao XIAOQIang</td>\n",
       "      <td>2204.0</td>\n",
       "      <td>2255</td>\n",
       "    </tr>\n",
       "    <tr>\n",
       "      <th>2256</th>\n",
       "      <td>1258</td>\n",
       "      <td>zHOU LIANGZHang</td>\n",
       "      <td>2205.0</td>\n",
       "      <td>2256</td>\n",
       "    </tr>\n",
       "    <tr>\n",
       "      <th>2257</th>\n",
       "      <td>7890</td>\n",
       "      <td>zhu XINGMing</td>\n",
       "      <td>2206.0</td>\n",
       "      <td>2257</td>\n",
       "    </tr>\n",
       "    <tr>\n",
       "      <th>2258</th>\n",
       "      <td>9083</td>\n",
       "      <td>zhuO JUN</td>\n",
       "      <td>2207.0</td>\n",
       "      <td>2258</td>\n",
       "    </tr>\n",
       "    <tr>\n",
       "      <th>2259</th>\n",
       "      <td>9092</td>\n",
       "      <td>olGUN ZOrlu</td>\n",
       "      <td>2208.0</td>\n",
       "      <td>2259</td>\n",
       "    </tr>\n",
       "  </tbody>\n",
       "</table>\n",
       "<p>2260 rows × 4 columns</p>\n",
       "</div>"
      ],
      "text/plain": [
       "        id                         name  position  Unnamed: 0\n",
       "0     5788  anant asavABHOKHIN & FAmily       NaN           0\n",
       "1     1023               aRASH FERDowsi       NaN           1\n",
       "2     6230     banthoon LAMSAM & FAmily       NaN           2\n",
       "3     4073       bill adderLEY & family       NaN           3\n",
       "4     7648            boris ZINGARevich       NaN           4\n",
       "...    ...                          ...       ...         ...\n",
       "2255  5027               zhao XIAOQIang    2204.0        2255\n",
       "2256  1258              zHOU LIANGZHang    2205.0        2256\n",
       "2257  7890                 zhu XINGMing    2206.0        2257\n",
       "2258  9083                     zhuO JUN    2207.0        2258\n",
       "2259  9092                  olGUN ZOrlu    2208.0        2259\n",
       "\n",
       "[2260 rows x 4 columns]"
      ]
     },
     "execution_count": 6,
     "metadata": {},
     "output_type": "execute_result"
    }
   ],
   "source": [
    "rank_info = pd.read_sql_query(\"SELECT * FROM rank_info\", engine)\n",
    "rank_info"
   ]
  },
  {
   "cell_type": "code",
   "execution_count": 7,
   "metadata": {},
   "outputs": [
    {
     "data": {
      "text/plain": [
       "id              int64\n",
       "name           object\n",
       "position      float64\n",
       "Unnamed: 0      int64\n",
       "dtype: object"
      ]
     },
     "execution_count": 7,
     "metadata": {},
     "output_type": "execute_result"
    }
   ],
   "source": [
    "rank_info.dtypes"
   ]
  },
  {
   "cell_type": "code",
   "execution_count": 8,
   "metadata": {},
   "outputs": [
    {
     "data": {
      "text/html": [
       "<div>\n",
       "<style scoped>\n",
       "    .dataframe tbody tr th:only-of-type {\n",
       "        vertical-align: middle;\n",
       "    }\n",
       "\n",
       "    .dataframe tbody tr th {\n",
       "        vertical-align: top;\n",
       "    }\n",
       "\n",
       "    .dataframe thead th {\n",
       "        text-align: right;\n",
       "    }\n",
       "</style>\n",
       "<table border=\"1\" class=\"dataframe\">\n",
       "  <thead>\n",
       "    <tr style=\"text-align: right;\">\n",
       "      <th></th>\n",
       "      <th>id</th>\n",
       "      <th>lastName</th>\n",
       "      <th>age</th>\n",
       "      <th>Unnamed: 0</th>\n",
       "      <th>gender</th>\n",
       "      <th>country</th>\n",
       "      <th>image</th>\n",
       "    </tr>\n",
       "  </thead>\n",
       "  <tbody>\n",
       "    <tr>\n",
       "      <th>0</th>\n",
       "      <td>6448</td>\n",
       "      <td>bEZOs</td>\n",
       "      <td>54 years old</td>\n",
       "      <td>52</td>\n",
       "      <td>M</td>\n",
       "      <td>United States</td>\n",
       "      <td>https://specials-images.forbesimg.com/imageser...</td>\n",
       "    </tr>\n",
       "    <tr>\n",
       "      <th>1</th>\n",
       "      <td>3509</td>\n",
       "      <td>GATES</td>\n",
       "      <td>62 years old</td>\n",
       "      <td>53</td>\n",
       "      <td>M</td>\n",
       "      <td>United States</td>\n",
       "      <td>https://specials-images.forbesimg.com/imageser...</td>\n",
       "    </tr>\n",
       "    <tr>\n",
       "      <th>2</th>\n",
       "      <td>3062</td>\n",
       "      <td>bufFETt</td>\n",
       "      <td>87 years old</td>\n",
       "      <td>54</td>\n",
       "      <td>Male</td>\n",
       "      <td>United States</td>\n",
       "      <td>https://specials-images.forbesimg.com/imageser...</td>\n",
       "    </tr>\n",
       "    <tr>\n",
       "      <th>3</th>\n",
       "      <td>5964</td>\n",
       "      <td>arnAULT</td>\n",
       "      <td>69 years old</td>\n",
       "      <td>55</td>\n",
       "      <td>M</td>\n",
       "      <td>None</td>\n",
       "      <td>https://specials-images.forbesimg.com/imageser...</td>\n",
       "    </tr>\n",
       "    <tr>\n",
       "      <th>4</th>\n",
       "      <td>1044</td>\n",
       "      <td>zUCKERBErg</td>\n",
       "      <td>1985</td>\n",
       "      <td>56</td>\n",
       "      <td>M</td>\n",
       "      <td>None</td>\n",
       "      <td>https://specials-images.forbesimg.com/imageser...</td>\n",
       "    </tr>\n",
       "    <tr>\n",
       "      <th>...</th>\n",
       "      <td>...</td>\n",
       "      <td>...</td>\n",
       "      <td>...</td>\n",
       "      <td>...</td>\n",
       "      <td>...</td>\n",
       "      <td>...</td>\n",
       "      <td>...</td>\n",
       "    </tr>\n",
       "    <tr>\n",
       "      <th>2203</th>\n",
       "      <td>5027</td>\n",
       "      <td>ZHAO</td>\n",
       "      <td>51 years old</td>\n",
       "      <td>2255</td>\n",
       "      <td>None</td>\n",
       "      <td>None</td>\n",
       "      <td>https://specials-images.forbesimg.com/imageser...</td>\n",
       "    </tr>\n",
       "    <tr>\n",
       "      <th>2204</th>\n",
       "      <td>1258</td>\n",
       "      <td>zHOU</td>\n",
       "      <td>55 years old</td>\n",
       "      <td>2256</td>\n",
       "      <td>M</td>\n",
       "      <td>None</td>\n",
       "      <td>https://specials-images.forbesimg.com/imageser...</td>\n",
       "    </tr>\n",
       "    <tr>\n",
       "      <th>2205</th>\n",
       "      <td>7890</td>\n",
       "      <td>ZHU</td>\n",
       "      <td>51 years old</td>\n",
       "      <td>2257</td>\n",
       "      <td>None</td>\n",
       "      <td>None</td>\n",
       "      <td>https://specials-images.forbesimg.com/imageser...</td>\n",
       "    </tr>\n",
       "    <tr>\n",
       "      <th>2206</th>\n",
       "      <td>9083</td>\n",
       "      <td>zHUO</td>\n",
       "      <td>52 years old</td>\n",
       "      <td>2258</td>\n",
       "      <td>None</td>\n",
       "      <td>None</td>\n",
       "      <td>https://specials-images.forbesimg.com/imageser...</td>\n",
       "    </tr>\n",
       "    <tr>\n",
       "      <th>2207</th>\n",
       "      <td>9092</td>\n",
       "      <td>zoRLu</td>\n",
       "      <td>54 years old</td>\n",
       "      <td>2259</td>\n",
       "      <td>M</td>\n",
       "      <td>None</td>\n",
       "      <td>https://specials-images.forbesimg.com/imageser...</td>\n",
       "    </tr>\n",
       "  </tbody>\n",
       "</table>\n",
       "<p>2208 rows × 7 columns</p>\n",
       "</div>"
      ],
      "text/plain": [
       "        id    lastName           age  Unnamed: 0 gender        country  \\\n",
       "0     6448       bEZOs  54 years old          52      M  United States   \n",
       "1     3509       GATES  62 years old          53      M  United States   \n",
       "2     3062     bufFETt  87 years old          54   Male  United States   \n",
       "3     5964     arnAULT  69 years old          55      M           None   \n",
       "4     1044  zUCKERBErg          1985          56      M           None   \n",
       "...    ...         ...           ...         ...    ...            ...   \n",
       "2203  5027        ZHAO  51 years old        2255   None           None   \n",
       "2204  1258        zHOU  55 years old        2256      M           None   \n",
       "2205  7890         ZHU  51 years old        2257   None           None   \n",
       "2206  9083        zHUO  52 years old        2258   None           None   \n",
       "2207  9092       zoRLu  54 years old        2259      M           None   \n",
       "\n",
       "                                                  image  \n",
       "0     https://specials-images.forbesimg.com/imageser...  \n",
       "1     https://specials-images.forbesimg.com/imageser...  \n",
       "2     https://specials-images.forbesimg.com/imageser...  \n",
       "3     https://specials-images.forbesimg.com/imageser...  \n",
       "4     https://specials-images.forbesimg.com/imageser...  \n",
       "...                                                 ...  \n",
       "2203  https://specials-images.forbesimg.com/imageser...  \n",
       "2204  https://specials-images.forbesimg.com/imageser...  \n",
       "2205  https://specials-images.forbesimg.com/imageser...  \n",
       "2206  https://specials-images.forbesimg.com/imageser...  \n",
       "2207  https://specials-images.forbesimg.com/imageser...  \n",
       "\n",
       "[2208 rows x 7 columns]"
      ]
     },
     "execution_count": 8,
     "metadata": {},
     "output_type": "execute_result"
    }
   ],
   "source": [
    "personal_info = pd.read_sql_query(\"SELECT * FROM personal_info\", engine)\n",
    "personal_info"
   ]
  },
  {
   "cell_type": "code",
   "execution_count": 9,
   "metadata": {},
   "outputs": [
    {
     "data": {
      "text/plain": [
       "id             int64\n",
       "lastName      object\n",
       "age           object\n",
       "Unnamed: 0     int64\n",
       "gender        object\n",
       "country       object\n",
       "image         object\n",
       "dtype: object"
      ]
     },
     "execution_count": 9,
     "metadata": {},
     "output_type": "execute_result"
    }
   ],
   "source": [
    "personal_info.dtypes"
   ]
  },
  {
   "cell_type": "code",
   "execution_count": 10,
   "metadata": {},
   "outputs": [
    {
     "data": {
      "text/html": [
       "<div>\n",
       "<style scoped>\n",
       "    .dataframe tbody tr th:only-of-type {\n",
       "        vertical-align: middle;\n",
       "    }\n",
       "\n",
       "    .dataframe tbody tr th {\n",
       "        vertical-align: top;\n",
       "    }\n",
       "\n",
       "    .dataframe thead th {\n",
       "        text-align: right;\n",
       "    }\n",
       "</style>\n",
       "<table border=\"1\" class=\"dataframe\">\n",
       "  <thead>\n",
       "    <tr style=\"text-align: right;\">\n",
       "      <th></th>\n",
       "      <th>id</th>\n",
       "      <th>lastName</th>\n",
       "      <th>age</th>\n",
       "      <th>Unnamed: 0</th>\n",
       "      <th>gender</th>\n",
       "      <th>country</th>\n",
       "      <th>image</th>\n",
       "    </tr>\n",
       "  </thead>\n",
       "  <tbody>\n",
       "    <tr>\n",
       "      <th>0</th>\n",
       "      <td>6448</td>\n",
       "      <td>bEZOs</td>\n",
       "      <td>54 years old</td>\n",
       "      <td>52</td>\n",
       "      <td>M</td>\n",
       "      <td>United States</td>\n",
       "      <td>https://specials-images.forbesimg.com/imageser...</td>\n",
       "    </tr>\n",
       "    <tr>\n",
       "      <th>1</th>\n",
       "      <td>3509</td>\n",
       "      <td>GATES</td>\n",
       "      <td>62 years old</td>\n",
       "      <td>53</td>\n",
       "      <td>M</td>\n",
       "      <td>United States</td>\n",
       "      <td>https://specials-images.forbesimg.com/imageser...</td>\n",
       "    </tr>\n",
       "    <tr>\n",
       "      <th>2</th>\n",
       "      <td>3062</td>\n",
       "      <td>bufFETt</td>\n",
       "      <td>87 years old</td>\n",
       "      <td>54</td>\n",
       "      <td>Male</td>\n",
       "      <td>United States</td>\n",
       "      <td>https://specials-images.forbesimg.com/imageser...</td>\n",
       "    </tr>\n",
       "    <tr>\n",
       "      <th>3</th>\n",
       "      <td>5964</td>\n",
       "      <td>arnAULT</td>\n",
       "      <td>69 years old</td>\n",
       "      <td>55</td>\n",
       "      <td>M</td>\n",
       "      <td>None</td>\n",
       "      <td>https://specials-images.forbesimg.com/imageser...</td>\n",
       "    </tr>\n",
       "    <tr>\n",
       "      <th>4</th>\n",
       "      <td>1044</td>\n",
       "      <td>zUCKERBErg</td>\n",
       "      <td>1985</td>\n",
       "      <td>56</td>\n",
       "      <td>M</td>\n",
       "      <td>None</td>\n",
       "      <td>https://specials-images.forbesimg.com/imageser...</td>\n",
       "    </tr>\n",
       "    <tr>\n",
       "      <th>...</th>\n",
       "      <td>...</td>\n",
       "      <td>...</td>\n",
       "      <td>...</td>\n",
       "      <td>...</td>\n",
       "      <td>...</td>\n",
       "      <td>...</td>\n",
       "      <td>...</td>\n",
       "    </tr>\n",
       "    <tr>\n",
       "      <th>2203</th>\n",
       "      <td>5027</td>\n",
       "      <td>ZHAO</td>\n",
       "      <td>51 years old</td>\n",
       "      <td>2255</td>\n",
       "      <td>None</td>\n",
       "      <td>None</td>\n",
       "      <td>https://specials-images.forbesimg.com/imageser...</td>\n",
       "    </tr>\n",
       "    <tr>\n",
       "      <th>2204</th>\n",
       "      <td>1258</td>\n",
       "      <td>zHOU</td>\n",
       "      <td>55 years old</td>\n",
       "      <td>2256</td>\n",
       "      <td>M</td>\n",
       "      <td>None</td>\n",
       "      <td>https://specials-images.forbesimg.com/imageser...</td>\n",
       "    </tr>\n",
       "    <tr>\n",
       "      <th>2205</th>\n",
       "      <td>7890</td>\n",
       "      <td>ZHU</td>\n",
       "      <td>51 years old</td>\n",
       "      <td>2257</td>\n",
       "      <td>None</td>\n",
       "      <td>None</td>\n",
       "      <td>https://specials-images.forbesimg.com/imageser...</td>\n",
       "    </tr>\n",
       "    <tr>\n",
       "      <th>2206</th>\n",
       "      <td>9083</td>\n",
       "      <td>zHUO</td>\n",
       "      <td>52 years old</td>\n",
       "      <td>2258</td>\n",
       "      <td>None</td>\n",
       "      <td>None</td>\n",
       "      <td>https://specials-images.forbesimg.com/imageser...</td>\n",
       "    </tr>\n",
       "    <tr>\n",
       "      <th>2207</th>\n",
       "      <td>9092</td>\n",
       "      <td>zoRLu</td>\n",
       "      <td>54 years old</td>\n",
       "      <td>2259</td>\n",
       "      <td>M</td>\n",
       "      <td>None</td>\n",
       "      <td>https://specials-images.forbesimg.com/imageser...</td>\n",
       "    </tr>\n",
       "  </tbody>\n",
       "</table>\n",
       "<p>2208 rows × 7 columns</p>\n",
       "</div>"
      ],
      "text/plain": [
       "        id    lastName           age  Unnamed: 0 gender        country  \\\n",
       "0     6448       bEZOs  54 years old          52      M  United States   \n",
       "1     3509       GATES  62 years old          53      M  United States   \n",
       "2     3062     bufFETt  87 years old          54   Male  United States   \n",
       "3     5964     arnAULT  69 years old          55      M           None   \n",
       "4     1044  zUCKERBErg          1985          56      M           None   \n",
       "...    ...         ...           ...         ...    ...            ...   \n",
       "2203  5027        ZHAO  51 years old        2255   None           None   \n",
       "2204  1258        zHOU  55 years old        2256      M           None   \n",
       "2205  7890         ZHU  51 years old        2257   None           None   \n",
       "2206  9083        zHUO  52 years old        2258   None           None   \n",
       "2207  9092       zoRLu  54 years old        2259      M           None   \n",
       "\n",
       "                                                  image  \n",
       "0     https://specials-images.forbesimg.com/imageser...  \n",
       "1     https://specials-images.forbesimg.com/imageser...  \n",
       "2     https://specials-images.forbesimg.com/imageser...  \n",
       "3     https://specials-images.forbesimg.com/imageser...  \n",
       "4     https://specials-images.forbesimg.com/imageser...  \n",
       "...                                                 ...  \n",
       "2203  https://specials-images.forbesimg.com/imageser...  \n",
       "2204  https://specials-images.forbesimg.com/imageser...  \n",
       "2205  https://specials-images.forbesimg.com/imageser...  \n",
       "2206  https://specials-images.forbesimg.com/imageser...  \n",
       "2207  https://specials-images.forbesimg.com/imageser...  \n",
       "\n",
       "[2208 rows x 7 columns]"
      ]
     },
     "metadata": {},
     "output_type": "display_data"
    }
   ],
   "source": [
    "business_info = pd.read_sql_query(\"SELECT * FROM personal_info\", engine)\n",
    "display(business_info)"
   ]
  },
  {
   "cell_type": "code",
   "execution_count": 11,
   "metadata": {},
   "outputs": [
    {
     "data": {
      "text/plain": [
       "id             int64\n",
       "lastName      object\n",
       "age           object\n",
       "Unnamed: 0     int64\n",
       "gender        object\n",
       "country       object\n",
       "image         object\n",
       "dtype: object"
      ]
     },
     "execution_count": 11,
     "metadata": {},
     "output_type": "execute_result"
    }
   ],
   "source": [
    "business_info.dtypes"
   ]
  },
  {
   "cell_type": "code",
   "execution_count": 12,
   "metadata": {},
   "outputs": [
    {
     "data": {
      "text/plain": [
       "id             0\n",
       "name           0\n",
       "position      52\n",
       "Unnamed: 0     0\n",
       "dtype: int64"
      ]
     },
     "execution_count": 12,
     "metadata": {},
     "output_type": "execute_result"
    }
   ],
   "source": [
    "#data cleaning for rank table:\n",
    "rank_info.isnull().sum()"
   ]
  },
  {
   "cell_type": "code",
   "execution_count": 13,
   "metadata": {},
   "outputs": [
    {
     "data": {
      "text/plain": [
       "position    52\n",
       "dtype: int64"
      ]
     },
     "execution_count": 13,
     "metadata": {},
     "output_type": "execute_result"
    }
   ],
   "source": [
    "null_cols_rank = rank_info.isnull().sum()\n",
    "null_cols_rank[null_cols_rank > 0]"
   ]
  },
  {
   "cell_type": "code",
   "execution_count": 14,
   "metadata": {},
   "outputs": [
    {
     "data": {
      "text/plain": [
       "position    2.300885\n",
       "dtype: float64"
      ]
     },
     "execution_count": 14,
     "metadata": {},
     "output_type": "execute_result"
    }
   ],
   "source": [
    "null_cols_rank[null_cols_rank > 0]/ len(rank_info)*100"
   ]
  },
  {
   "cell_type": "code",
   "execution_count": 15,
   "metadata": {},
   "outputs": [
    {
     "name": "stdout",
     "output_type": "stream",
     "text": [
      "Requirement already satisfied: missingno in /Users/victorgalan/miniconda3/envs/data_env/lib/python3.7/site-packages (0.4.2)\n",
      "Requirement already satisfied: numpy in /Users/victorgalan/miniconda3/envs/data_env/lib/python3.7/site-packages (from missingno) (1.17.2)\n",
      "Requirement already satisfied: scipy in /Users/victorgalan/miniconda3/envs/data_env/lib/python3.7/site-packages (from missingno) (1.3.1)\n",
      "Requirement already satisfied: seaborn in /Users/victorgalan/miniconda3/envs/data_env/lib/python3.7/site-packages (from missingno) (0.9.0)\n",
      "Requirement already satisfied: matplotlib in /Users/victorgalan/miniconda3/envs/data_env/lib/python3.7/site-packages (from missingno) (3.1.2)\n",
      "Requirement already satisfied: pandas>=0.15.2 in /Users/victorgalan/miniconda3/envs/data_env/lib/python3.7/site-packages (from seaborn->missingno) (0.25.3)\n",
      "Requirement already satisfied: kiwisolver>=1.0.1 in /Users/victorgalan/miniconda3/envs/data_env/lib/python3.7/site-packages (from matplotlib->missingno) (1.1.0)\n",
      "Requirement already satisfied: cycler>=0.10 in /Users/victorgalan/miniconda3/envs/data_env/lib/python3.7/site-packages (from matplotlib->missingno) (0.10.0)\n",
      "Requirement already satisfied: pyparsing!=2.0.4,!=2.1.2,!=2.1.6,>=2.0.1 in /Users/victorgalan/miniconda3/envs/data_env/lib/python3.7/site-packages (from matplotlib->missingno) (2.4.5)\n",
      "Requirement already satisfied: python-dateutil>=2.1 in /Users/victorgalan/miniconda3/envs/data_env/lib/python3.7/site-packages (from matplotlib->missingno) (2.8.0)\n",
      "Requirement already satisfied: pytz>=2017.2 in /Users/victorgalan/miniconda3/envs/data_env/lib/python3.7/site-packages (from pandas>=0.15.2->seaborn->missingno) (2019.3)\n",
      "Requirement already satisfied: setuptools in /Users/victorgalan/miniconda3/envs/data_env/lib/python3.7/site-packages (from kiwisolver>=1.0.1->matplotlib->missingno) (41.6.0.post20191030)\n",
      "Requirement already satisfied: six in /Users/victorgalan/miniconda3/envs/data_env/lib/python3.7/site-packages (from cycler>=0.10->matplotlib->missingno) (1.12.0)\n"
     ]
    }
   ],
   "source": [
    "!pip install missingno"
   ]
  },
  {
   "cell_type": "code",
   "execution_count": 17,
   "metadata": {},
   "outputs": [
    {
     "data": {
      "image/png": "[encoded data removed]",
      "text/plain": [
       "<Figure size 1728x720 with 3 Axes>"
      ]
     },
     "metadata": {
      "needs_background": "light"
     },
     "output_type": "display_data"
    }
   ],
   "source": [
    "import missingno\n",
    "%matplotlib inline\n",
    "#represented the hole dataset\n",
    "data_rank = rank_info.sample(2260, random_state=42)\n",
    "missingno.bar(data_rank);"
   ]
  },
  {
   "cell_type": "code",
   "execution_count": 18,
   "metadata": {},
   "outputs": [
    {
     "data": {
      "text/plain": [
       "4"
      ]
     },
     "execution_count": 18,
     "metadata": {},
     "output_type": "execute_result"
    }
   ],
   "source": [
    "len(data_rank.columns)"
   ]
  },
  {
   "cell_type": "code",
   "execution_count": 19,
   "metadata": {},
   "outputs": [
    {
     "data": {
      "text/html": [
       "<div>\n",
       "<style scoped>\n",
       "    .dataframe tbody tr th:only-of-type {\n",
       "        vertical-align: middle;\n",
       "    }\n",
       "\n",
       "    .dataframe tbody tr th {\n",
       "        vertical-align: top;\n",
       "    }\n",
       "\n",
       "    .dataframe thead th {\n",
       "        text-align: right;\n",
       "    }\n",
       "</style>\n",
       "<table border=\"1\" class=\"dataframe\">\n",
       "  <thead>\n",
       "    <tr style=\"text-align: right;\">\n",
       "      <th></th>\n",
       "      <th>id</th>\n",
       "      <th>name</th>\n",
       "      <th>position</th>\n",
       "    </tr>\n",
       "  </thead>\n",
       "  <tbody>\n",
       "    <tr>\n",
       "      <th>0</th>\n",
       "      <td>5788</td>\n",
       "      <td>anant asavABHOKHIN &amp; FAmily</td>\n",
       "      <td>NaN</td>\n",
       "    </tr>\n",
       "    <tr>\n",
       "      <th>1</th>\n",
       "      <td>1023</td>\n",
       "      <td>aRASH FERDowsi</td>\n",
       "      <td>NaN</td>\n",
       "    </tr>\n",
       "    <tr>\n",
       "      <th>2</th>\n",
       "      <td>6230</td>\n",
       "      <td>banthoon LAMSAM &amp; FAmily</td>\n",
       "      <td>NaN</td>\n",
       "    </tr>\n",
       "    <tr>\n",
       "      <th>3</th>\n",
       "      <td>4073</td>\n",
       "      <td>bill adderLEY &amp; family</td>\n",
       "      <td>NaN</td>\n",
       "    </tr>\n",
       "    <tr>\n",
       "      <th>4</th>\n",
       "      <td>7648</td>\n",
       "      <td>boris ZINGARevich</td>\n",
       "      <td>NaN</td>\n",
       "    </tr>\n",
       "    <tr>\n",
       "      <th>...</th>\n",
       "      <td>...</td>\n",
       "      <td>...</td>\n",
       "      <td>...</td>\n",
       "    </tr>\n",
       "    <tr>\n",
       "      <th>2255</th>\n",
       "      <td>5027</td>\n",
       "      <td>zhao XIAOQIang</td>\n",
       "      <td>2204.0</td>\n",
       "    </tr>\n",
       "    <tr>\n",
       "      <th>2256</th>\n",
       "      <td>1258</td>\n",
       "      <td>zHOU LIANGZHang</td>\n",
       "      <td>2205.0</td>\n",
       "    </tr>\n",
       "    <tr>\n",
       "      <th>2257</th>\n",
       "      <td>7890</td>\n",
       "      <td>zhu XINGMing</td>\n",
       "      <td>2206.0</td>\n",
       "    </tr>\n",
       "    <tr>\n",
       "      <th>2258</th>\n",
       "      <td>9083</td>\n",
       "      <td>zhuO JUN</td>\n",
       "      <td>2207.0</td>\n",
       "    </tr>\n",
       "    <tr>\n",
       "      <th>2259</th>\n",
       "      <td>9092</td>\n",
       "      <td>olGUN ZOrlu</td>\n",
       "      <td>2208.0</td>\n",
       "    </tr>\n",
       "  </tbody>\n",
       "</table>\n",
       "<p>2260 rows × 3 columns</p>\n",
       "</div>"
      ],
      "text/plain": [
       "        id                         name  position\n",
       "0     5788  anant asavABHOKHIN & FAmily       NaN\n",
       "1     1023               aRASH FERDowsi       NaN\n",
       "2     6230     banthoon LAMSAM & FAmily       NaN\n",
       "3     4073       bill adderLEY & family       NaN\n",
       "4     7648            boris ZINGARevich       NaN\n",
       "...    ...                          ...       ...\n",
       "2255  5027               zhao XIAOQIang    2204.0\n",
       "2256  1258              zHOU LIANGZHang    2205.0\n",
       "2257  7890                 zhu XINGMing    2206.0\n",
       "2258  9083                     zhuO JUN    2207.0\n",
       "2259  9092                  olGUN ZOrlu    2208.0\n",
       "\n",
       "[2260 rows x 3 columns]"
      ]
     },
     "execution_count": 19,
     "metadata": {},
     "output_type": "execute_result"
    }
   ],
   "source": [
    "#drop column 'Unnamed:0'\n",
    "rank_info_dropped_unnamend0 = rank_info.drop('Unnamed: 0', axis = 1)\n",
    "rank_info_dropped_unnamend0"
   ]
  }
 ],
 "metadata": {
  "kernelspec": {
   "display_name": "Python [conda env:data_env]",
   "language": "python",
   "name": "conda-env-data_env-py"
  },
  "language_info": {
   "codemirror_mode": {
    "name": "ipython",
    "version": 3
   },
   "file_extension": ".py",
   "mimetype": "text/x-python",
   "name": "python",
   "nbconvert_exporter": "python",
   "pygments_lexer": "ipython3",
   "version": "3.7.5"
  }
 },
 "nbformat": 4,
 "nbformat_minor": 2
}
