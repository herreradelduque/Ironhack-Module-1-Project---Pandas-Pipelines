{
 "cells": [
  {
   "cell_type": "code",
   "execution_count": null,
   "metadata": {},
   "outputs": [],
   "source": [
    "import email, smtplib, ssl, getpass\n",
    "\n",
    "from email import encoders\n",
    "from email.mime.base import MIMEBase\n",
    "from email.mime.multipart import MIMEMultipart\n",
    "from email.mime.text import MIMEText"
   ]
  },
  {
   "cell_type": "code",
   "execution_count": 10,
   "metadata": {},
   "outputs": [
    {
     "name": "stdin",
     "output_type": "stream",
     "text": [
      "What is your email password?  ·············\n"
     ]
    }
   ],
   "source": [
    "# Create a multipart message and set headers\n",
    "\n",
    "sender_email = 'herreradelduque0@gmail.com'\n",
    "receiver_email ='herreradelduque@hotmail.com'\n",
    "subject ='(2) Test for Ironhack 1st project'\n",
    "receivers_email = 'herreradelduque@hotmail.com'\n",
    "\n",
    "\n",
    "message = MIMEMultipart()\n",
    "message[\"From\"] = sender_email\n",
    "message[\"To\"] = receiver_email\n",
    "message[\"Subject\"] = subject\n",
    "message[\"Bcc\"] = receivers_email  # Recommended for mass emails\n",
    "\n",
    "# Add body to email\n",
    "\n",
    "body = 'This is my very first attempt sending automated emails'\n",
    "\n",
    "message.attach(MIMEText(body, \"plain\"))\n",
    "\n",
    "filename = \"document.pdf\"  # In same directory as script\n",
    "\n",
    "# Open PDF file in binary mode\n",
    "with open(filename, \"rb\") as attachment:\n",
    "    # Add file as application/octet-stream\n",
    "    # Email client can usually download this automatically as attachment\n",
    "    part = MIMEBase(\"application\", \"octet-stream\")\n",
    "    part.set_payload(attachment.read())\n",
    "\n",
    "# Encode file in ASCII characters to send by email    \n",
    "encoders.encode_base64(part)\n",
    "\n",
    "# Add header as key/value pair to attachment part\n",
    "part.add_header(\n",
    "    \"Content-Disposition\",\n",
    "    f\"attachment; filename= {filename}\",\n",
    ")\n",
    "\n",
    "# Add attachment to message and convert message to string\n",
    "message.attach(part)\n",
    "text = message.as_string()\n",
    "\n",
    "# Log in to server using secure context and send email\n",
    "\n",
    "password = getpass.getpass(prompt='What is your email password? ')\n",
    "\n",
    "context = ssl.create_default_context()\n",
    "with smtplib.SMTP_SSL(\"smtp.gmail.com\", 465, context=context) as server:\n",
    "    server.login(sender_email, password)\n",
    "    server.sendmail(sender_email, receiver_email, text)"
   ]
  },
  {
   "cell_type": "code",
   "execution_count": null,
   "metadata": {},
   "outputs": [],
   "source": []
  }
 ],
 "metadata": {
  "kernelspec": {
   "display_name": "Python [conda env:data_env]",
   "language": "python",
   "name": "conda-env-data_env-py"
  },
  "language_info": {
   "codemirror_mode": {
    "name": "ipython",
    "version": 3
   },
   "file_extension": ".py",
   "mimetype": "text/x-python",
   "name": "python",
   "nbconvert_exporter": "python",
   "pygments_lexer": "ipython3",
   "version": "3.7.5"
  }
 },
 "nbformat": 4,
 "nbformat_minor": 4
}
