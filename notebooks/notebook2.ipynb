{
 "cells": [
  {
   "cell_type": "code",
   "execution_count": 1,
   "metadata": {},
   "outputs": [],
   "source": [
    "import requests\n",
    "import pandas as pd\n",
    "import matplotlib.pyplot as plt"
   ]
  },
  {
   "cell_type": "code",
   "execution_count": 2,
   "metadata": {},
   "outputs": [],
   "source": [
    "pd.set_option('display.max_rows', 200)"
   ]
  },
  {
   "cell_type": "code",
   "execution_count": 3,
   "metadata": {},
   "outputs": [],
   "source": [
    "pd.set_option('display.max_columns', 30)"
   ]
  },
  {
   "cell_type": "code",
   "execution_count": 4,
   "metadata": {},
   "outputs": [],
   "source": [
    "pd.set_option('display.max_colwidth', -1)"
   ]
  },
  {
   "cell_type": "markdown",
   "metadata": {},
   "source": [
    "Completing the missing data.\n",
    "\n",
    "First try getting the scraped url: "
   ]
  },
  {
   "cell_type": "code",
   "execution_count": 5,
   "metadata": {},
   "outputs": [
    {
     "data": {
      "text/plain": [
       "8862"
      ]
     },
     "execution_count": 5,
     "metadata": {},
     "output_type": "execute_result"
    }
   ],
   "source": [
    "url = 'https://www.kaggle.com/soubenz/forbes-top-billionaires-list-2018/download'\n",
    "\n",
    "r = requests.get(url,allow_redirects=True)\n",
    "\n",
    "open('../data/raw/forbes-top-billionaires-list-2018.zip','wb').write(r.content)"
   ]
  },
  {
   "cell_type": "markdown",
   "metadata": {},
   "source": [
    "We get one file (zip) but it doesn't work.\n",
    "\n",
    "We analize the redirect:"
   ]
  },
  {
   "cell_type": "code",
   "execution_count": 6,
   "metadata": {},
   "outputs": [
    {
     "name": "stdout",
     "output_type": "stream",
     "text": [
      "Request was redirected\n",
      "302 https://www.kaggle.com/soubenz/forbes-top-billionaires-list-2018/download\n",
      "Final destination:\n",
      "200 https://www.kaggle.com/account/login?returnUrl=%2Fsoubenz%2Fforbes-top-billionaires-list-2018%2Fdata\n"
     ]
    }
   ],
   "source": [
    "response = requests.get('https://www.kaggle.com/soubenz/forbes-top-billionaires-list-2018/download')\n",
    "if response.history:\n",
    "    print(\"Request was redirected\")\n",
    "    for resp in response.history:\n",
    "        print(resp.status_code, resp.url)\n",
    "    print(\"Final destination:\")\n",
    "    print(response.status_code, response.url)\n",
    "else:\n",
    "    print(\"Request was not redirected\")"
   ]
  },
  {
   "cell_type": "markdown",
   "metadata": {},
   "source": [
    "We see that we do not arrive to the final url (to the zip file) because of the logging, but we can get the final url analizing with Google inspector:"
   ]
  },
  {
   "cell_type": "code",
   "execution_count": 7,
   "metadata": {},
   "outputs": [
    {
     "data": {
      "text/plain": [
       "115140"
      ]
     },
     "execution_count": 7,
     "metadata": {},
     "output_type": "execute_result"
    }
   ],
   "source": [
    "url = 'https://storage.googleapis.com/kaggle-data-sets/33081/43334/bundle/archive.zip?GoogleAccessId=web-data@kaggle-161607.iam.gserviceaccount.com&Expires=1577444456&Signature=s1ps2cSD66ljVlrSc7GxNSd36grxjA6Ih1PUrWntmvYrjqKRs4PnNkwSvdZrhx5pLm944%2FTNadtVV%2Fwm712VJJ%2Bhwq13IvDKGl4uv9ZxXSa7rNmZj5Mcqx6j2TYCUiIACGbmgQJQHt8BOOa6KYz7EaJR128%2Bn9E8WF0tZGa0oaLnMgZZk3i2IamdOkL9BnSr1EuzL9pvIL3uP1l7lhuIEXCdFRe79cr8AbNTAB269FE6%2BRNPS%2Bmx55wnp9MWbcCAgNZyEzxLPNcM0liI9w5pQY6OQIGfruWLUgX0ObS53SQmXCRMeUTm3o%2BlBuq1qFCbVxDsdfgcufX3ydCigZ0GvQ%3D%3D&response-content-disposition=attachment%3B+filename%3Dforbes-top-billionaires-list-2018.zip'\n",
    "\n",
    "r = requests.get(url)\n",
    "\n",
    "open('../data/raw/forbes-top-billionaires-list-2018.zip','wb').write(r.content)"
   ]
  },
  {
   "cell_type": "code",
   "execution_count": 8,
   "metadata": {},
   "outputs": [
    {
     "data": {
      "text/plain": [
       "8862"
      ]
     },
     "execution_count": 8,
     "metadata": {},
     "output_type": "execute_result"
    }
   ],
   "source": [
    "url = 'https://www.kaggle.com/fernandol/countries-of-the-world/download'\n",
    "\n",
    "r = requests.get(url,allow_redirects=True)\n",
    "\n",
    "open('../data/raw/world-countries.zip','wb').write(r.content)"
   ]
  },
  {
   "cell_type": "code",
   "execution_count": 9,
   "metadata": {},
   "outputs": [
    {
     "name": "stdout",
     "output_type": "stream",
     "text": [
      "Request was redirected\n",
      "302 https://www.kaggle.com/fernandol/countries-of-the-world/download\n",
      "Final destination:\n",
      "200 https://www.kaggle.com/account/login?returnUrl=%2Ffernandol%2Fcountries-of-the-world%2Fdata\n"
     ]
    }
   ],
   "source": [
    "response = requests.get('https://www.kaggle.com/fernandol/countries-of-the-world/download')\n",
    "if response.history:\n",
    "    print(\"Request was redirected\")\n",
    "    for resp in response.history:\n",
    "        print(resp.status_code, resp.url)\n",
    "    print(\"Final destination:\")\n",
    "    print(response.status_code, response.url)\n",
    "else:\n",
    "    print(\"Request was not redirected\")"
   ]
  },
  {
   "cell_type": "code",
   "execution_count": 10,
   "metadata": {},
   "outputs": [
    {
     "data": {
      "text/plain": [
       "13735"
      ]
     },
     "execution_count": 10,
     "metadata": {},
     "output_type": "execute_result"
    }
   ],
   "source": [
    "url = 'https://storage.googleapis.com/kaggle-data-sets/23752/30346/bundle/archive.zip?GoogleAccessId=web-data@kaggle-161607.iam.gserviceaccount.com&Expires=1577448698&Signature=Bn2qMZEnH4OGTT9Z4OilcruHfey5fE6kdmjPNh9Uw%2FXEnc%2FhHShAlXL72jlUQq4wXHQhbQYva%2FS1YkwnZI0xLFdlbToJNENPRyev%2Btfq9vr129kVxPtBio7m3ivB3wdbysUdN2exAmaZ0Phi%2B7%2BzE5CXnDQiJqBkjt1QmM4M8o0CYvyXIJM4zQIIUyqP9d5O4%2Ba44oZQjkfNZN2lLqmossiq0ZI5%2FeR1HwUuHf7OYUrc3nQi9%2BC5BX%2FHf30MZBLPDpWfvBll4Cir9D6QmgYEOO9pURmt8r9%2BLrJmFGAv4AnXdKxXHaXEHxjvNP7Ew67OTLCCec%2BxHLKtn9zuFoYNZA%3D%3D&response-content-disposition=attachment%3B+filename%3Dcountries-of-the-world.zip'\n",
    "\n",
    "r = requests.get(url,allow_redirects=True)\n",
    "\n",
    "open('../data/raw/world-countries.zip','wb').write(r.content)"
   ]
  },
  {
   "cell_type": "code",
   "execution_count": 11,
   "metadata": {},
   "outputs": [
    {
     "data": {
      "text/html": [
       "<div>\n",
       "<style scoped>\n",
       "    .dataframe tbody tr th:only-of-type {\n",
       "        vertical-align: middle;\n",
       "    }\n",
       "\n",
       "    .dataframe tbody tr th {\n",
       "        vertical-align: top;\n",
       "    }\n",
       "\n",
       "    .dataframe thead th {\n",
       "        text-align: right;\n",
       "    }\n",
       "</style>\n",
       "<table border=\"1\" class=\"dataframe\">\n",
       "  <thead>\n",
       "    <tr style=\"text-align: right;\">\n",
       "      <th></th>\n",
       "      <th>position</th>\n",
       "      <th>name</th>\n",
       "      <th>lastName</th>\n",
       "      <th>age</th>\n",
       "      <th>country</th>\n",
       "      <th>gender</th>\n",
       "      <th>wealthSource</th>\n",
       "      <th>industry</th>\n",
       "      <th>worth</th>\n",
       "      <th>worthChange</th>\n",
       "      <th>realTimeWorth</th>\n",
       "      <th>realTimePosition</th>\n",
       "      <th>image</th>\n",
       "    </tr>\n",
       "  </thead>\n",
       "  <tbody>\n",
       "    <tr>\n",
       "      <th>0</th>\n",
       "      <td>NaN</td>\n",
       "      <td>Anant Asavabhokhin &amp; family</td>\n",
       "      <td>Asavabhokhin</td>\n",
       "      <td>67.0</td>\n",
       "      <td>Thailand</td>\n",
       "      <td>M</td>\n",
       "      <td>real estate</td>\n",
       "      <td>Real Estate</td>\n",
       "      <td>NaN</td>\n",
       "      <td>-0.001</td>\n",
       "      <td>NaN</td>\n",
       "      <td>1613</td>\n",
       "      <td>https://specials-images.forbesimg.com/imageserve/5ae0e71ca7ea43127982a6f6/416x416.jpg?background=000000&amp;cropX1=909&amp;cropX2=1588&amp;cropY1=17&amp;cropY2=696</td>\n",
       "    </tr>\n",
       "    <tr>\n",
       "      <th>1</th>\n",
       "      <td>NaN</td>\n",
       "      <td>Arash Ferdowsi</td>\n",
       "      <td>Ferdowsi</td>\n",
       "      <td>32.0</td>\n",
       "      <td>United States</td>\n",
       "      <td>M</td>\n",
       "      <td>online file storage</td>\n",
       "      <td>Technology</td>\n",
       "      <td>NaN</td>\n",
       "      <td>0.000</td>\n",
       "      <td>NaN</td>\n",
       "      <td>1734</td>\n",
       "      <td>https://specials-images.forbesimg.com/imageserve/5ae0e71ca7ea43127982a6f6/416x416.jpg?background=000000&amp;cropX1=909&amp;cropX2=1588&amp;cropY1=17&amp;cropY2=696</td>\n",
       "    </tr>\n",
       "    <tr>\n",
       "      <th>2</th>\n",
       "      <td>NaN</td>\n",
       "      <td>Banthoon Lamsam &amp; family</td>\n",
       "      <td>Lamsam</td>\n",
       "      <td>65.0</td>\n",
       "      <td>Thailand</td>\n",
       "      <td>M</td>\n",
       "      <td>banking</td>\n",
       "      <td>Finance and Investments</td>\n",
       "      <td>NaN</td>\n",
       "      <td>0.001</td>\n",
       "      <td>NaN</td>\n",
       "      <td>1952</td>\n",
       "      <td>https://specials-images.forbesimg.com/imageserve/5ad8e8bea7ea432fbc1f6f2f/416x416.jpg?background=000000&amp;cropX1=1091&amp;cropX2=2771&amp;cropY1=434&amp;cropY2=2113</td>\n",
       "    </tr>\n",
       "    <tr>\n",
       "      <th>3</th>\n",
       "      <td>NaN</td>\n",
       "      <td>Bill Adderley &amp; family</td>\n",
       "      <td>Adderley</td>\n",
       "      <td>70.0</td>\n",
       "      <td>United Kingdom</td>\n",
       "      <td>M</td>\n",
       "      <td>home furnishings</td>\n",
       "      <td>Fashion &amp; Retail</td>\n",
       "      <td>NaN</td>\n",
       "      <td>0.000</td>\n",
       "      <td>NaN</td>\n",
       "      <td>1956</td>\n",
       "      <td>https://specials-images.forbesimg.com/imageserve/5ad8e8bea7ea432fbc1f6f2f/416x416.jpg?background=000000&amp;cropX1=1091&amp;cropX2=2771&amp;cropY1=434&amp;cropY2=2113</td>\n",
       "    </tr>\n",
       "    <tr>\n",
       "      <th>4</th>\n",
       "      <td>NaN</td>\n",
       "      <td>Boris Zingarevich</td>\n",
       "      <td>Zingarevich</td>\n",
       "      <td>58.0</td>\n",
       "      <td>Russia</td>\n",
       "      <td>M</td>\n",
       "      <td>pulp and paper, diversified</td>\n",
       "      <td>Diversified</td>\n",
       "      <td>NaN</td>\n",
       "      <td>0.000</td>\n",
       "      <td>NaN</td>\n",
       "      <td>2103</td>\n",
       "      <td>https://specials-images.forbesimg.com/imageserve/5ad8b4844bbe6f2310f30482/416x416.jpg?background=000000&amp;cropX1=1177&amp;cropX2=4510&amp;cropY1=247&amp;cropY2=3577</td>\n",
       "    </tr>\n",
       "  </tbody>\n",
       "</table>\n",
       "</div>"
      ],
      "text/plain": [
       "   position                         name      lastName   age         country  \\\n",
       "0 NaN        Anant Asavabhokhin & family  Asavabhokhin  67.0  Thailand         \n",
       "1 NaN        Arash Ferdowsi               Ferdowsi      32.0  United States    \n",
       "2 NaN        Banthoon Lamsam & family     Lamsam        65.0  Thailand         \n",
       "3 NaN        Bill Adderley & family       Adderley      70.0  United Kingdom   \n",
       "4 NaN        Boris Zingarevich            Zingarevich   58.0  Russia           \n",
       "\n",
       "  gender                 wealthSource                 industry  worth  \\\n",
       "0  M      real estate                  Real Estate             NaN      \n",
       "1  M      online file storage          Technology              NaN      \n",
       "2  M      banking                      Finance and Investments NaN      \n",
       "3  M      home furnishings             Fashion & Retail        NaN      \n",
       "4  M      pulp and paper, diversified  Diversified             NaN      \n",
       "\n",
       "   worthChange  realTimeWorth  realTimePosition  \\\n",
       "0 -0.001       NaN             1613               \n",
       "1  0.000       NaN             1734               \n",
       "2  0.001       NaN             1952               \n",
       "3  0.000       NaN             1956               \n",
       "4  0.000       NaN             2103               \n",
       "\n",
       "                                                                                                                                                    image  \n",
       "0  https://specials-images.forbesimg.com/imageserve/5ae0e71ca7ea43127982a6f6/416x416.jpg?background=000000&cropX1=909&cropX2=1588&cropY1=17&cropY2=696     \n",
       "1  https://specials-images.forbesimg.com/imageserve/5ae0e71ca7ea43127982a6f6/416x416.jpg?background=000000&cropX1=909&cropX2=1588&cropY1=17&cropY2=696     \n",
       "2  https://specials-images.forbesimg.com/imageserve/5ad8e8bea7ea432fbc1f6f2f/416x416.jpg?background=000000&cropX1=1091&cropX2=2771&cropY1=434&cropY2=2113  \n",
       "3  https://specials-images.forbesimg.com/imageserve/5ad8e8bea7ea432fbc1f6f2f/416x416.jpg?background=000000&cropX1=1091&cropX2=2771&cropY1=434&cropY2=2113  \n",
       "4  https://specials-images.forbesimg.com/imageserve/5ad8b4844bbe6f2310f30482/416x416.jpg?background=000000&cropX1=1177&cropX2=4510&cropY1=247&cropY2=3577  "
      ]
     },
     "execution_count": 11,
     "metadata": {},
     "output_type": "execute_result"
    }
   ],
   "source": [
    "df_forbes = pd.read_csv('../data/raw/forbes-top-billionaires-list-2018.zip')\n",
    "df_forbes.head(5)"
   ]
  },
  {
   "cell_type": "markdown",
   "metadata": {},
   "source": [
    "Identify one space after some strings in 'Country' column of df_countries"
   ]
  },
  {
   "cell_type": "code",
   "execution_count": 12,
   "metadata": {},
   "outputs": [
    {
     "data": {
      "text/plain": [
       "'Spain '"
      ]
     },
     "execution_count": 12,
     "metadata": {},
     "output_type": "execute_result"
    }
   ],
   "source": [
    "df_countries = pd.read_csv('../data/raw/world-countries.zip')\n",
    "df_countries['Country'].iloc[190]"
   ]
  },
  {
   "cell_type": "markdown",
   "metadata": {},
   "source": [
    "...but not in df_forbes"
   ]
  },
  {
   "cell_type": "code",
   "execution_count": 13,
   "metadata": {},
   "outputs": [
    {
     "data": {
      "text/plain": [
       "'Spain'"
      ]
     },
     "execution_count": 13,
     "metadata": {},
     "output_type": "execute_result"
    }
   ],
   "source": [
    "df_forbes.rename(columns={'country':'Country'}, inplace=True)\n",
    "df_forbes['Country'].iloc[57]"
   ]
  },
  {
   "cell_type": "code",
   "execution_count": 14,
   "metadata": {},
   "outputs": [
    {
     "data": {
      "text/plain": [
       "['position',\n",
       " 'name',\n",
       " 'lastName',\n",
       " 'age',\n",
       " 'Country',\n",
       " 'gender',\n",
       " 'wealthSource',\n",
       " 'industry',\n",
       " 'worth',\n",
       " 'worthChange',\n",
       " 'realTimeWorth',\n",
       " 'realTimePosition',\n",
       " 'image']"
      ]
     },
     "execution_count": 14,
     "metadata": {},
     "output_type": "execute_result"
    }
   ],
   "source": [
    "cols_forbes = df_forbes.columns.tolist()\n",
    "cols_forbes"
   ]
  },
  {
   "cell_type": "code",
   "execution_count": 15,
   "metadata": {},
   "outputs": [
    {
     "data": {
      "text/html": [
       "<div>\n",
       "<style scoped>\n",
       "    .dataframe tbody tr th:only-of-type {\n",
       "        vertical-align: middle;\n",
       "    }\n",
       "\n",
       "    .dataframe tbody tr th {\n",
       "        vertical-align: top;\n",
       "    }\n",
       "\n",
       "    .dataframe thead th {\n",
       "        text-align: right;\n",
       "    }\n",
       "</style>\n",
       "<table border=\"1\" class=\"dataframe\">\n",
       "  <thead>\n",
       "    <tr style=\"text-align: right;\">\n",
       "      <th></th>\n",
       "      <th>position</th>\n",
       "      <th>name</th>\n",
       "      <th>lastName</th>\n",
       "      <th>age</th>\n",
       "      <th>gender</th>\n",
       "      <th>wealthSource</th>\n",
       "      <th>industry</th>\n",
       "      <th>worth</th>\n",
       "      <th>worthChange</th>\n",
       "      <th>realTimeWorth</th>\n",
       "      <th>realTimePosition</th>\n",
       "      <th>image</th>\n",
       "      <th>Country</th>\n",
       "    </tr>\n",
       "  </thead>\n",
       "  <tbody>\n",
       "    <tr>\n",
       "      <th>52</th>\n",
       "      <td>1.0</td>\n",
       "      <td>Jeff Bezos</td>\n",
       "      <td>Bezos</td>\n",
       "      <td>54.0</td>\n",
       "      <td>M</td>\n",
       "      <td>Amazon</td>\n",
       "      <td>Technology</td>\n",
       "      <td>112000.0</td>\n",
       "      <td>0.000</td>\n",
       "      <td>NaN</td>\n",
       "      <td>1</td>\n",
       "      <td>https://specials-images.forbesimg.com/imageserve/5a8d920d31358e4955adf197/416x416.jpg?background=000000&amp;cropX1=755&amp;cropX2=2357&amp;cropY1=494&amp;cropY2=2097</td>\n",
       "      <td>United States</td>\n",
       "    </tr>\n",
       "    <tr>\n",
       "      <th>53</th>\n",
       "      <td>2.0</td>\n",
       "      <td>Bill Gates</td>\n",
       "      <td>Gates</td>\n",
       "      <td>62.0</td>\n",
       "      <td>M</td>\n",
       "      <td>Microsoft</td>\n",
       "      <td>Technology</td>\n",
       "      <td>90000.0</td>\n",
       "      <td>-0.001</td>\n",
       "      <td>NaN</td>\n",
       "      <td>2</td>\n",
       "      <td>https://specials-images.forbesimg.com/imageserve/5a942b7b31358e79a28a452b/416x416.jpg?background=000000&amp;cropX1=285&amp;cropX2=3498&amp;cropY1=146&amp;cropY2=3360</td>\n",
       "      <td>United States</td>\n",
       "    </tr>\n",
       "    <tr>\n",
       "      <th>54</th>\n",
       "      <td>3.0</td>\n",
       "      <td>Warren Buffett</td>\n",
       "      <td>Buffett</td>\n",
       "      <td>87.0</td>\n",
       "      <td>M</td>\n",
       "      <td>Berkshire Hathaway</td>\n",
       "      <td>Finance and Investments</td>\n",
       "      <td>84000.0</td>\n",
       "      <td>-0.002</td>\n",
       "      <td>NaN</td>\n",
       "      <td>3</td>\n",
       "      <td>https://specials-images.forbesimg.com/imageserve/5a8d9b3a31358e4955adf300/416x416.jpg?background=000000&amp;cropX1=378&amp;cropX2=2650&amp;cropY1=52&amp;cropY2=2322</td>\n",
       "      <td>United States</td>\n",
       "    </tr>\n",
       "    <tr>\n",
       "      <th>55</th>\n",
       "      <td>4.0</td>\n",
       "      <td>Bernard Arnault</td>\n",
       "      <td>Arnault</td>\n",
       "      <td>69.0</td>\n",
       "      <td>M</td>\n",
       "      <td>LVMH</td>\n",
       "      <td>Fashion &amp; Retail</td>\n",
       "      <td>72000.0</td>\n",
       "      <td>0.000</td>\n",
       "      <td>NaN</td>\n",
       "      <td>4</td>\n",
       "      <td>https://specials-images.forbesimg.com/imageserve/5a7de808a7ea431690131adf/416x416.jpg?background=000000&amp;cropX1=125&amp;cropX2=2852&amp;cropY1=11&amp;cropY2=2736</td>\n",
       "      <td>France</td>\n",
       "    </tr>\n",
       "    <tr>\n",
       "      <th>56</th>\n",
       "      <td>5.0</td>\n",
       "      <td>Mark Zuckerberg</td>\n",
       "      <td>Zuckerberg</td>\n",
       "      <td>34.0</td>\n",
       "      <td>M</td>\n",
       "      <td>Facebook</td>\n",
       "      <td>Technology</td>\n",
       "      <td>71000.0</td>\n",
       "      <td>0.000</td>\n",
       "      <td>NaN</td>\n",
       "      <td>5</td>\n",
       "      <td>https://specials-images.forbesimg.com/imageserve/59d5062131358e542c034eb7/416x416.jpg?background=000000&amp;cropX1=419&amp;cropX2=1409&amp;cropY1=53&amp;cropY2=1044</td>\n",
       "      <td>United States</td>\n",
       "    </tr>\n",
       "    <tr>\n",
       "      <th>57</th>\n",
       "      <td>6.0</td>\n",
       "      <td>Amancio Ortega</td>\n",
       "      <td>Ortega</td>\n",
       "      <td>82.0</td>\n",
       "      <td>M</td>\n",
       "      <td>Zara</td>\n",
       "      <td>Fashion &amp; Retail</td>\n",
       "      <td>70000.0</td>\n",
       "      <td>0.000</td>\n",
       "      <td>NaN</td>\n",
       "      <td>6</td>\n",
       "      <td>https://specials-images.forbesimg.com/imageserve/5a810ce6a7ea431690133fe6/416x416.jpg?background=000000&amp;cropX1=250&amp;cropX2=2266&amp;cropY1=4&amp;cropY2=2019</td>\n",
       "      <td>Spain</td>\n",
       "    </tr>\n",
       "  </tbody>\n",
       "</table>\n",
       "</div>"
      ],
      "text/plain": [
       "    position             name    lastName   age gender        wealthSource  \\\n",
       "52  1.0       Jeff Bezos       Bezos       54.0  M      Amazon               \n",
       "53  2.0       Bill Gates       Gates       62.0  M      Microsoft            \n",
       "54  3.0       Warren Buffett   Buffett     87.0  M      Berkshire Hathaway   \n",
       "55  4.0       Bernard Arnault  Arnault     69.0  M      LVMH                 \n",
       "56  5.0       Mark Zuckerberg  Zuckerberg  34.0  M      Facebook             \n",
       "57  6.0       Amancio Ortega   Ortega      82.0  M      Zara                 \n",
       "\n",
       "                   industry     worth  worthChange  realTimeWorth  \\\n",
       "52  Technology               112000.0  0.000       NaN              \n",
       "53  Technology               90000.0  -0.001       NaN              \n",
       "54  Finance and Investments  84000.0  -0.002       NaN              \n",
       "55  Fashion & Retail         72000.0   0.000       NaN              \n",
       "56  Technology               71000.0   0.000       NaN              \n",
       "57  Fashion & Retail         70000.0   0.000       NaN              \n",
       "\n",
       "    realTimePosition  \\\n",
       "52  1                  \n",
       "53  2                  \n",
       "54  3                  \n",
       "55  4                  \n",
       "56  5                  \n",
       "57  6                  \n",
       "\n",
       "                                                                                                                                                    image  \\\n",
       "52  https://specials-images.forbesimg.com/imageserve/5a8d920d31358e4955adf197/416x416.jpg?background=000000&cropX1=755&cropX2=2357&cropY1=494&cropY2=2097   \n",
       "53  https://specials-images.forbesimg.com/imageserve/5a942b7b31358e79a28a452b/416x416.jpg?background=000000&cropX1=285&cropX2=3498&cropY1=146&cropY2=3360   \n",
       "54  https://specials-images.forbesimg.com/imageserve/5a8d9b3a31358e4955adf300/416x416.jpg?background=000000&cropX1=378&cropX2=2650&cropY1=52&cropY2=2322    \n",
       "55  https://specials-images.forbesimg.com/imageserve/5a7de808a7ea431690131adf/416x416.jpg?background=000000&cropX1=125&cropX2=2852&cropY1=11&cropY2=2736    \n",
       "56  https://specials-images.forbesimg.com/imageserve/59d5062131358e542c034eb7/416x416.jpg?background=000000&cropX1=419&cropX2=1409&cropY1=53&cropY2=1044    \n",
       "57  https://specials-images.forbesimg.com/imageserve/5a810ce6a7ea431690133fe6/416x416.jpg?background=000000&cropX1=250&cropX2=2266&cropY1=4&cropY2=2019     \n",
       "\n",
       "          Country  \n",
       "52  United States  \n",
       "53  United States  \n",
       "54  United States  \n",
       "55  France         \n",
       "56  United States  \n",
       "57  Spain          "
      ]
     },
     "execution_count": 15,
     "metadata": {},
     "output_type": "execute_result"
    }
   ],
   "source": [
    "cols = ['position', 'name', 'lastName', 'age', 'gender', 'wealthSource', 'industry', 'worth', 'worthChange','realTimeWorth','realTimePosition','image','Country']\n",
    "\n",
    "df_forbes = df_forbes[cols]\n",
    "df_forbes[52:58]"
   ]
  },
  {
   "cell_type": "code",
   "execution_count": 16,
   "metadata": {},
   "outputs": [],
   "source": [
    "df_countries['Country'] = df_countries['Country'].map(lambda x: x.strip())"
   ]
  },
  {
   "cell_type": "code",
   "execution_count": 17,
   "metadata": {},
   "outputs": [
    {
     "data": {
      "text/plain": [
       "'Spain'"
      ]
     },
     "execution_count": 17,
     "metadata": {},
     "output_type": "execute_result"
    }
   ],
   "source": [
    "df_countries['Country'].iloc[190]"
   ]
  },
  {
   "cell_type": "code",
   "execution_count": 18,
   "metadata": {},
   "outputs": [],
   "source": [
    "df_forbes['Country'] = df_forbes['Country'].map(lambda x: x.strip())"
   ]
  },
  {
   "cell_type": "code",
   "execution_count": 19,
   "metadata": {},
   "outputs": [
    {
     "data": {
      "text/plain": [
       "'Spain'"
      ]
     },
     "execution_count": 19,
     "metadata": {},
     "output_type": "execute_result"
    }
   ],
   "source": [
    "df_forbes['Country'].iloc[57]"
   ]
  },
  {
   "cell_type": "code",
   "execution_count": 20,
   "metadata": {},
   "outputs": [],
   "source": [
    "df_forbes_merge = pd.merge(df_forbes,df_countries, on='Country',sort=True)"
   ]
  },
  {
   "cell_type": "code",
   "execution_count": 21,
   "metadata": {},
   "outputs": [
    {
     "data": {
      "text/html": [
       "<div>\n",
       "<style scoped>\n",
       "    .dataframe tbody tr th:only-of-type {\n",
       "        vertical-align: middle;\n",
       "    }\n",
       "\n",
       "    .dataframe tbody tr th {\n",
       "        vertical-align: top;\n",
       "    }\n",
       "\n",
       "    .dataframe thead th {\n",
       "        text-align: right;\n",
       "    }\n",
       "</style>\n",
       "<table border=\"1\" class=\"dataframe\">\n",
       "  <thead>\n",
       "    <tr style=\"text-align: right;\">\n",
       "      <th></th>\n",
       "      <th>position</th>\n",
       "      <th>name</th>\n",
       "      <th>lastName</th>\n",
       "      <th>age</th>\n",
       "      <th>gender</th>\n",
       "      <th>wealthSource</th>\n",
       "      <th>industry</th>\n",
       "      <th>worth</th>\n",
       "      <th>worthChange</th>\n",
       "      <th>realTimeWorth</th>\n",
       "      <th>realTimePosition</th>\n",
       "      <th>image</th>\n",
       "      <th>Country</th>\n",
       "      <th>Region</th>\n",
       "      <th>Population</th>\n",
       "      <th>...</th>\n",
       "      <th>Coastline (coast/area ratio)</th>\n",
       "      <th>Net migration</th>\n",
       "      <th>Infant mortality (per 1000 births)</th>\n",
       "      <th>GDP ($ per capita)</th>\n",
       "      <th>Literacy (%)</th>\n",
       "      <th>Phones (per 1000)</th>\n",
       "      <th>Arable (%)</th>\n",
       "      <th>Crops (%)</th>\n",
       "      <th>Other (%)</th>\n",
       "      <th>Climate</th>\n",
       "      <th>Birthrate</th>\n",
       "      <th>Deathrate</th>\n",
       "      <th>Agriculture</th>\n",
       "      <th>Industry</th>\n",
       "      <th>Service</th>\n",
       "    </tr>\n",
       "  </thead>\n",
       "  <tbody>\n",
       "    <tr>\n",
       "      <th>1620</th>\n",
       "      <td>1.0</td>\n",
       "      <td>Jeff Bezos</td>\n",
       "      <td>Bezos</td>\n",
       "      <td>54.0</td>\n",
       "      <td>M</td>\n",
       "      <td>Amazon</td>\n",
       "      <td>Technology</td>\n",
       "      <td>112000.0</td>\n",
       "      <td>0.000</td>\n",
       "      <td>NaN</td>\n",
       "      <td>1</td>\n",
       "      <td>https://specials-images.forbesimg.com/imageserve/5a8d920d31358e4955adf197/416x416.jpg?background=000000&amp;cropX1=755&amp;cropX2=2357&amp;cropY1=494&amp;cropY2=2097</td>\n",
       "      <td>United States</td>\n",
       "      <td>NORTHERN AMERICA</td>\n",
       "      <td>298444215</td>\n",
       "      <td>...</td>\n",
       "      <td>0,21</td>\n",
       "      <td>3,41</td>\n",
       "      <td>6,5</td>\n",
       "      <td>37800.0</td>\n",
       "      <td>97,0</td>\n",
       "      <td>898,0</td>\n",
       "      <td>19,13</td>\n",
       "      <td>0,22</td>\n",
       "      <td>80,65</td>\n",
       "      <td>3</td>\n",
       "      <td>14,14</td>\n",
       "      <td>8,26</td>\n",
       "      <td>0,01</td>\n",
       "      <td>0,204</td>\n",
       "      <td>0,787</td>\n",
       "    </tr>\n",
       "    <tr>\n",
       "      <th>1621</th>\n",
       "      <td>2.0</td>\n",
       "      <td>Bill Gates</td>\n",
       "      <td>Gates</td>\n",
       "      <td>62.0</td>\n",
       "      <td>M</td>\n",
       "      <td>Microsoft</td>\n",
       "      <td>Technology</td>\n",
       "      <td>90000.0</td>\n",
       "      <td>-0.001</td>\n",
       "      <td>NaN</td>\n",
       "      <td>2</td>\n",
       "      <td>https://specials-images.forbesimg.com/imageserve/5a942b7b31358e79a28a452b/416x416.jpg?background=000000&amp;cropX1=285&amp;cropX2=3498&amp;cropY1=146&amp;cropY2=3360</td>\n",
       "      <td>United States</td>\n",
       "      <td>NORTHERN AMERICA</td>\n",
       "      <td>298444215</td>\n",
       "      <td>...</td>\n",
       "      <td>0,21</td>\n",
       "      <td>3,41</td>\n",
       "      <td>6,5</td>\n",
       "      <td>37800.0</td>\n",
       "      <td>97,0</td>\n",
       "      <td>898,0</td>\n",
       "      <td>19,13</td>\n",
       "      <td>0,22</td>\n",
       "      <td>80,65</td>\n",
       "      <td>3</td>\n",
       "      <td>14,14</td>\n",
       "      <td>8,26</td>\n",
       "      <td>0,01</td>\n",
       "      <td>0,204</td>\n",
       "      <td>0,787</td>\n",
       "    </tr>\n",
       "    <tr>\n",
       "      <th>1622</th>\n",
       "      <td>3.0</td>\n",
       "      <td>Warren Buffett</td>\n",
       "      <td>Buffett</td>\n",
       "      <td>87.0</td>\n",
       "      <td>M</td>\n",
       "      <td>Berkshire Hathaway</td>\n",
       "      <td>Finance and Investments</td>\n",
       "      <td>84000.0</td>\n",
       "      <td>-0.002</td>\n",
       "      <td>NaN</td>\n",
       "      <td>3</td>\n",
       "      <td>https://specials-images.forbesimg.com/imageserve/5a8d9b3a31358e4955adf300/416x416.jpg?background=000000&amp;cropX1=378&amp;cropX2=2650&amp;cropY1=52&amp;cropY2=2322</td>\n",
       "      <td>United States</td>\n",
       "      <td>NORTHERN AMERICA</td>\n",
       "      <td>298444215</td>\n",
       "      <td>...</td>\n",
       "      <td>0,21</td>\n",
       "      <td>3,41</td>\n",
       "      <td>6,5</td>\n",
       "      <td>37800.0</td>\n",
       "      <td>97,0</td>\n",
       "      <td>898,0</td>\n",
       "      <td>19,13</td>\n",
       "      <td>0,22</td>\n",
       "      <td>80,65</td>\n",
       "      <td>3</td>\n",
       "      <td>14,14</td>\n",
       "      <td>8,26</td>\n",
       "      <td>0,01</td>\n",
       "      <td>0,204</td>\n",
       "      <td>0,787</td>\n",
       "    </tr>\n",
       "    <tr>\n",
       "      <th>588</th>\n",
       "      <td>4.0</td>\n",
       "      <td>Bernard Arnault</td>\n",
       "      <td>Arnault</td>\n",
       "      <td>69.0</td>\n",
       "      <td>M</td>\n",
       "      <td>LVMH</td>\n",
       "      <td>Fashion &amp; Retail</td>\n",
       "      <td>72000.0</td>\n",
       "      <td>0.000</td>\n",
       "      <td>NaN</td>\n",
       "      <td>4</td>\n",
       "      <td>https://specials-images.forbesimg.com/imageserve/5a7de808a7ea431690131adf/416x416.jpg?background=000000&amp;cropX1=125&amp;cropX2=2852&amp;cropY1=11&amp;cropY2=2736</td>\n",
       "      <td>France</td>\n",
       "      <td>WESTERN EUROPE</td>\n",
       "      <td>60876136</td>\n",
       "      <td>...</td>\n",
       "      <td>0,63</td>\n",
       "      <td>0,66</td>\n",
       "      <td>4,26</td>\n",
       "      <td>27600.0</td>\n",
       "      <td>99,0</td>\n",
       "      <td>586,4</td>\n",
       "      <td>33,53</td>\n",
       "      <td>2,07</td>\n",
       "      <td>64,4</td>\n",
       "      <td>4</td>\n",
       "      <td>11,99</td>\n",
       "      <td>9,14</td>\n",
       "      <td>0,022</td>\n",
       "      <td>0,214</td>\n",
       "      <td>0,764</td>\n",
       "    </tr>\n",
       "    <tr>\n",
       "      <th>1623</th>\n",
       "      <td>5.0</td>\n",
       "      <td>Mark Zuckerberg</td>\n",
       "      <td>Zuckerberg</td>\n",
       "      <td>34.0</td>\n",
       "      <td>M</td>\n",
       "      <td>Facebook</td>\n",
       "      <td>Technology</td>\n",
       "      <td>71000.0</td>\n",
       "      <td>0.000</td>\n",
       "      <td>NaN</td>\n",
       "      <td>5</td>\n",
       "      <td>https://specials-images.forbesimg.com/imageserve/59d5062131358e542c034eb7/416x416.jpg?background=000000&amp;cropX1=419&amp;cropX2=1409&amp;cropY1=53&amp;cropY2=1044</td>\n",
       "      <td>United States</td>\n",
       "      <td>NORTHERN AMERICA</td>\n",
       "      <td>298444215</td>\n",
       "      <td>...</td>\n",
       "      <td>0,21</td>\n",
       "      <td>3,41</td>\n",
       "      <td>6,5</td>\n",
       "      <td>37800.0</td>\n",
       "      <td>97,0</td>\n",
       "      <td>898,0</td>\n",
       "      <td>19,13</td>\n",
       "      <td>0,22</td>\n",
       "      <td>80,65</td>\n",
       "      <td>3</td>\n",
       "      <td>14,14</td>\n",
       "      <td>8,26</td>\n",
       "      <td>0,01</td>\n",
       "      <td>0,204</td>\n",
       "      <td>0,787</td>\n",
       "    </tr>\n",
       "    <tr>\n",
       "      <th>1328</th>\n",
       "      <td>6.0</td>\n",
       "      <td>Amancio Ortega</td>\n",
       "      <td>Ortega</td>\n",
       "      <td>82.0</td>\n",
       "      <td>M</td>\n",
       "      <td>Zara</td>\n",
       "      <td>Fashion &amp; Retail</td>\n",
       "      <td>70000.0</td>\n",
       "      <td>0.000</td>\n",
       "      <td>NaN</td>\n",
       "      <td>6</td>\n",
       "      <td>https://specials-images.forbesimg.com/imageserve/5a810ce6a7ea431690133fe6/416x416.jpg?background=000000&amp;cropX1=250&amp;cropX2=2266&amp;cropY1=4&amp;cropY2=2019</td>\n",
       "      <td>Spain</td>\n",
       "      <td>WESTERN EUROPE</td>\n",
       "      <td>40397842</td>\n",
       "      <td>...</td>\n",
       "      <td>0,98</td>\n",
       "      <td>0,99</td>\n",
       "      <td>4,42</td>\n",
       "      <td>22000.0</td>\n",
       "      <td>97,9</td>\n",
       "      <td>453,5</td>\n",
       "      <td>26,07</td>\n",
       "      <td>9,87</td>\n",
       "      <td>64,06</td>\n",
       "      <td>3</td>\n",
       "      <td>10,06</td>\n",
       "      <td>9,72</td>\n",
       "      <td>0,04</td>\n",
       "      <td>0,295</td>\n",
       "      <td>0,665</td>\n",
       "    </tr>\n",
       "    <tr>\n",
       "      <th>1112</th>\n",
       "      <td>7.0</td>\n",
       "      <td>Carlos Slim Helu</td>\n",
       "      <td>Slim Helu</td>\n",
       "      <td>78.0</td>\n",
       "      <td>M</td>\n",
       "      <td>telecom</td>\n",
       "      <td>Telecom</td>\n",
       "      <td>67100.0</td>\n",
       "      <td>0.001</td>\n",
       "      <td>NaN</td>\n",
       "      <td>7</td>\n",
       "      <td>https://specials-images.forbesimg.com/imageserve/5a7fcad931358e4955ad21fc/416x416.jpg?background=000000&amp;cropX1=247&amp;cropX2=2010&amp;cropY1=226&amp;cropY2=1990</td>\n",
       "      <td>Mexico</td>\n",
       "      <td>LATIN AMER. &amp; CARIB</td>\n",
       "      <td>107449525</td>\n",
       "      <td>...</td>\n",
       "      <td>0,47</td>\n",
       "      <td>-4,87</td>\n",
       "      <td>20,91</td>\n",
       "      <td>9000.0</td>\n",
       "      <td>92,2</td>\n",
       "      <td>181,6</td>\n",
       "      <td>12,99</td>\n",
       "      <td>1,31</td>\n",
       "      <td>85,7</td>\n",
       "      <td>1,5</td>\n",
       "      <td>20,69</td>\n",
       "      <td>4,74</td>\n",
       "      <td>0,038</td>\n",
       "      <td>0,259</td>\n",
       "      <td>0,702</td>\n",
       "    </tr>\n",
       "    <tr>\n",
       "      <th>1624</th>\n",
       "      <td>8.0</td>\n",
       "      <td>Charles Koch</td>\n",
       "      <td>Koch</td>\n",
       "      <td>82.0</td>\n",
       "      <td>M</td>\n",
       "      <td>Koch Industries</td>\n",
       "      <td>Diversified</td>\n",
       "      <td>60000.0</td>\n",
       "      <td>0.000</td>\n",
       "      <td>NaN</td>\n",
       "      <td>12</td>\n",
       "      <td>https://specials-images.forbesimg.com/imageserve/5638b4b5e4b0ffa7afe69a7f/416x416.jpg?background=000000&amp;cropX1=0&amp;cropX2=744&amp;cropY1=53&amp;cropY2=797</td>\n",
       "      <td>United States</td>\n",
       "      <td>NORTHERN AMERICA</td>\n",
       "      <td>298444215</td>\n",
       "      <td>...</td>\n",
       "      <td>0,21</td>\n",
       "      <td>3,41</td>\n",
       "      <td>6,5</td>\n",
       "      <td>37800.0</td>\n",
       "      <td>97,0</td>\n",
       "      <td>898,0</td>\n",
       "      <td>19,13</td>\n",
       "      <td>0,22</td>\n",
       "      <td>80,65</td>\n",
       "      <td>3</td>\n",
       "      <td>14,14</td>\n",
       "      <td>8,26</td>\n",
       "      <td>0,01</td>\n",
       "      <td>0,204</td>\n",
       "      <td>0,787</td>\n",
       "    </tr>\n",
       "    <tr>\n",
       "      <th>1625</th>\n",
       "      <td>9.0</td>\n",
       "      <td>David Koch</td>\n",
       "      <td>Koch</td>\n",
       "      <td>78.0</td>\n",
       "      <td>M</td>\n",
       "      <td>Koch Industries</td>\n",
       "      <td>Diversified</td>\n",
       "      <td>60000.0</td>\n",
       "      <td>0.000</td>\n",
       "      <td>NaN</td>\n",
       "      <td>13</td>\n",
       "      <td>https://specials-images.forbesimg.com/imageserve/5a8d901531358e4955adf139/416x416.jpg?background=000000&amp;cropX1=0&amp;cropX2=2400&amp;cropY1=81&amp;cropY2=2481</td>\n",
       "      <td>United States</td>\n",
       "      <td>NORTHERN AMERICA</td>\n",
       "      <td>298444215</td>\n",
       "      <td>...</td>\n",
       "      <td>0,21</td>\n",
       "      <td>3,41</td>\n",
       "      <td>6,5</td>\n",
       "      <td>37800.0</td>\n",
       "      <td>97,0</td>\n",
       "      <td>898,0</td>\n",
       "      <td>19,13</td>\n",
       "      <td>0,22</td>\n",
       "      <td>80,65</td>\n",
       "      <td>3</td>\n",
       "      <td>14,14</td>\n",
       "      <td>8,26</td>\n",
       "      <td>0,01</td>\n",
       "      <td>0,204</td>\n",
       "      <td>0,787</td>\n",
       "    </tr>\n",
       "    <tr>\n",
       "      <th>1626</th>\n",
       "      <td>10.0</td>\n",
       "      <td>Larry Ellison</td>\n",
       "      <td>Ellison</td>\n",
       "      <td>73.0</td>\n",
       "      <td>M</td>\n",
       "      <td>software</td>\n",
       "      <td>Technology</td>\n",
       "      <td>58500.0</td>\n",
       "      <td>-0.001</td>\n",
       "      <td>NaN</td>\n",
       "      <td>8</td>\n",
       "      <td>https://specials-images.forbesimg.com/imageserve/5a8d9263a7ea431690140251/416x416.jpg?background=000000&amp;cropX1=0&amp;cropX2=2000&amp;cropY1=197&amp;cropY2=2198</td>\n",
       "      <td>United States</td>\n",
       "      <td>NORTHERN AMERICA</td>\n",
       "      <td>298444215</td>\n",
       "      <td>...</td>\n",
       "      <td>0,21</td>\n",
       "      <td>3,41</td>\n",
       "      <td>6,5</td>\n",
       "      <td>37800.0</td>\n",
       "      <td>97,0</td>\n",
       "      <td>898,0</td>\n",
       "      <td>19,13</td>\n",
       "      <td>0,22</td>\n",
       "      <td>80,65</td>\n",
       "      <td>3</td>\n",
       "      <td>14,14</td>\n",
       "      <td>8,26</td>\n",
       "      <td>0,01</td>\n",
       "      <td>0,204</td>\n",
       "      <td>0,787</td>\n",
       "    </tr>\n",
       "  </tbody>\n",
       "</table>\n",
       "<p>10 rows × 32 columns</p>\n",
       "</div>"
      ],
      "text/plain": [
       "      position              name    lastName   age gender        wealthSource  \\\n",
       "1620  1.0       Jeff Bezos        Bezos       54.0  M      Amazon               \n",
       "1621  2.0       Bill Gates        Gates       62.0  M      Microsoft            \n",
       "1622  3.0       Warren Buffett    Buffett     87.0  M      Berkshire Hathaway   \n",
       "588   4.0       Bernard Arnault   Arnault     69.0  M      LVMH                 \n",
       "1623  5.0       Mark Zuckerberg   Zuckerberg  34.0  M      Facebook             \n",
       "1328  6.0       Amancio Ortega    Ortega      82.0  M      Zara                 \n",
       "1112  7.0       Carlos Slim Helu  Slim Helu   78.0  M      telecom              \n",
       "1624  8.0       Charles Koch      Koch        82.0  M      Koch Industries      \n",
       "1625  9.0       David Koch        Koch        78.0  M      Koch Industries      \n",
       "1626  10.0      Larry Ellison     Ellison     73.0  M      software             \n",
       "\n",
       "                     industry     worth  worthChange  realTimeWorth  \\\n",
       "1620  Technology               112000.0  0.000       NaN              \n",
       "1621  Technology               90000.0  -0.001       NaN              \n",
       "1622  Finance and Investments  84000.0  -0.002       NaN              \n",
       "588   Fashion & Retail         72000.0   0.000       NaN              \n",
       "1623  Technology               71000.0   0.000       NaN              \n",
       "1328  Fashion & Retail         70000.0   0.000       NaN              \n",
       "1112  Telecom                  67100.0   0.001       NaN              \n",
       "1624  Diversified              60000.0   0.000       NaN              \n",
       "1625  Diversified              60000.0   0.000       NaN              \n",
       "1626  Technology               58500.0  -0.001       NaN              \n",
       "\n",
       "      realTimePosition  \\\n",
       "1620  1                  \n",
       "1621  2                  \n",
       "1622  3                  \n",
       "588   4                  \n",
       "1623  5                  \n",
       "1328  6                  \n",
       "1112  7                  \n",
       "1624  12                 \n",
       "1625  13                 \n",
       "1626  8                  \n",
       "\n",
       "                                                                                                                                                      image  \\\n",
       "1620  https://specials-images.forbesimg.com/imageserve/5a8d920d31358e4955adf197/416x416.jpg?background=000000&cropX1=755&cropX2=2357&cropY1=494&cropY2=2097   \n",
       "1621  https://specials-images.forbesimg.com/imageserve/5a942b7b31358e79a28a452b/416x416.jpg?background=000000&cropX1=285&cropX2=3498&cropY1=146&cropY2=3360   \n",
       "1622  https://specials-images.forbesimg.com/imageserve/5a8d9b3a31358e4955adf300/416x416.jpg?background=000000&cropX1=378&cropX2=2650&cropY1=52&cropY2=2322    \n",
       "588   https://specials-images.forbesimg.com/imageserve/5a7de808a7ea431690131adf/416x416.jpg?background=000000&cropX1=125&cropX2=2852&cropY1=11&cropY2=2736    \n",
       "1623  https://specials-images.forbesimg.com/imageserve/59d5062131358e542c034eb7/416x416.jpg?background=000000&cropX1=419&cropX2=1409&cropY1=53&cropY2=1044    \n",
       "1328  https://specials-images.forbesimg.com/imageserve/5a810ce6a7ea431690133fe6/416x416.jpg?background=000000&cropX1=250&cropX2=2266&cropY1=4&cropY2=2019     \n",
       "1112  https://specials-images.forbesimg.com/imageserve/5a7fcad931358e4955ad21fc/416x416.jpg?background=000000&cropX1=247&cropX2=2010&cropY1=226&cropY2=1990   \n",
       "1624  https://specials-images.forbesimg.com/imageserve/5638b4b5e4b0ffa7afe69a7f/416x416.jpg?background=000000&cropX1=0&cropX2=744&cropY1=53&cropY2=797        \n",
       "1625  https://specials-images.forbesimg.com/imageserve/5a8d901531358e4955adf139/416x416.jpg?background=000000&cropX1=0&cropX2=2400&cropY1=81&cropY2=2481      \n",
       "1626  https://specials-images.forbesimg.com/imageserve/5a8d9263a7ea431690140251/416x416.jpg?background=000000&cropX1=0&cropX2=2000&cropY1=197&cropY2=2198     \n",
       "\n",
       "            Country                               Region  Population  ...  \\\n",
       "1620  United States  NORTHERN AMERICA                     298444215   ...   \n",
       "1621  United States  NORTHERN AMERICA                     298444215   ...   \n",
       "1622  United States  NORTHERN AMERICA                     298444215   ...   \n",
       "588   France         WESTERN EUROPE                       60876136    ...   \n",
       "1623  United States  NORTHERN AMERICA                     298444215   ...   \n",
       "1328  Spain          WESTERN EUROPE                       40397842    ...   \n",
       "1112  Mexico         LATIN AMER. & CARIB                  107449525   ...   \n",
       "1624  United States  NORTHERN AMERICA                     298444215   ...   \n",
       "1625  United States  NORTHERN AMERICA                     298444215   ...   \n",
       "1626  United States  NORTHERN AMERICA                     298444215   ...   \n",
       "\n",
       "      Coastline (coast/area ratio) Net migration  \\\n",
       "1620  0,21                          3,41           \n",
       "1621  0,21                          3,41           \n",
       "1622  0,21                          3,41           \n",
       "588   0,63                          0,66           \n",
       "1623  0,21                          3,41           \n",
       "1328  0,98                          0,99           \n",
       "1112  0,47                          -4,87          \n",
       "1624  0,21                          3,41           \n",
       "1625  0,21                          3,41           \n",
       "1626  0,21                          3,41           \n",
       "\n",
       "     Infant mortality (per 1000 births) GDP ($ per capita) Literacy (%)  \\\n",
       "1620  6,5                                37800.0            97,0          \n",
       "1621  6,5                                37800.0            97,0          \n",
       "1622  6,5                                37800.0            97,0          \n",
       "588   4,26                               27600.0            99,0          \n",
       "1623  6,5                                37800.0            97,0          \n",
       "1328  4,42                               22000.0            97,9          \n",
       "1112  20,91                              9000.0             92,2          \n",
       "1624  6,5                                37800.0            97,0          \n",
       "1625  6,5                                37800.0            97,0          \n",
       "1626  6,5                                37800.0            97,0          \n",
       "\n",
       "      Phones (per 1000) Arable (%) Crops (%) Other (%) Climate Birthrate  \\\n",
       "1620  898,0              19,13      0,22      80,65     3       14,14      \n",
       "1621  898,0              19,13      0,22      80,65     3       14,14      \n",
       "1622  898,0              19,13      0,22      80,65     3       14,14      \n",
       "588   586,4              33,53      2,07      64,4      4       11,99      \n",
       "1623  898,0              19,13      0,22      80,65     3       14,14      \n",
       "1328  453,5              26,07      9,87      64,06     3       10,06      \n",
       "1112  181,6              12,99      1,31      85,7      1,5     20,69      \n",
       "1624  898,0              19,13      0,22      80,65     3       14,14      \n",
       "1625  898,0              19,13      0,22      80,65     3       14,14      \n",
       "1626  898,0              19,13      0,22      80,65     3       14,14      \n",
       "\n",
       "     Deathrate Agriculture Industry Service  \n",
       "1620  8,26      0,01        0,204    0,787   \n",
       "1621  8,26      0,01        0,204    0,787   \n",
       "1622  8,26      0,01        0,204    0,787   \n",
       "588   9,14      0,022       0,214    0,764   \n",
       "1623  8,26      0,01        0,204    0,787   \n",
       "1328  9,72      0,04        0,295    0,665   \n",
       "1112  4,74      0,038       0,259    0,702   \n",
       "1624  8,26      0,01        0,204    0,787   \n",
       "1625  8,26      0,01        0,204    0,787   \n",
       "1626  8,26      0,01        0,204    0,787   \n",
       "\n",
       "[10 rows x 32 columns]"
      ]
     },
     "execution_count": 21,
     "metadata": {},
     "output_type": "execute_result"
    }
   ],
   "source": [
    "df_forbes_merge.sort_values(['position'], axis=0, ascending=True, inplace=True) \n",
    "df_forbes_merge[:10]"
   ]
  },
  {
   "cell_type": "code",
   "execution_count": 26,
   "metadata": {},
   "outputs": [
    {
     "data": {
      "image/png": "[encoded data removed]",
      "text/plain": [
       "<Figure size 432x288 with 1 Axes>"
      ]
     },
     "metadata": {
      "needs_background": "light"
     },
     "output_type": "display_data"
    }
   ],
   "source": [
    "# create dummy variable them group by that\n",
    "# set the legend to false because we'll fix it later\n",
    "df_forbes_merge.assign(dummy = 1).groupby(['dummy','industry']).size().to_frame().unstack().plot(kind='bar',stacked=True,legend=False)\n",
    "\n",
    "plt.title('Number of billionaires by industry')\n",
    "\n",
    "# other it'll show up as 'dummy' \n",
    "plt.xlabel('industry')\n",
    "\n",
    "# disable ticks in the x axis\n",
    "plt.xticks([])\n",
    "\n",
    "# fix the legend\n",
    "current_handles, _ = plt.gca().get_legend_handles_labels()\n",
    "reversed_handles = reversed(current_handles)\n",
    "\n",
    "labels = reversed(df_forbes_merge['industry'].unique())\n",
    "\n",
    "plt.legend(reversed_handles,labels,loc='lower right')\n",
    "plt.show()"
   ]
  },
  {
   "cell_type": "code",
   "execution_count": 24,
   "metadata": {},
   "outputs": [
    {
     "data": {
      "image/png": "[encoded data removed]",
      "text/plain": [
       "<Figure size 432x288 with 1 Axes>"
      ]
     },
     "metadata": {
      "needs_background": "light"
     },
     "output_type": "display_data"
    }
   ],
   "source": [
    "df_forbes_merge.groupby(['Country','gender']).size().unstack().plot(kind='bar',stacked=True)\n",
    "plt.show()"
   ]
  },
  {
   "cell_type": "code",
   "execution_count": 25,
   "metadata": {},
   "outputs": [
    {
     "data": {
      "image/png": "[encoded data removed]",
      "text/plain": [
       "<Figure size 432x288 with 1 Axes>"
      ]
     },
     "metadata": {
      "needs_background": "light"
     },
     "output_type": "display_data"
    }
   ],
   "source": [
    "df_forbes_merge[['age']].plot(kind='hist',bins=[0,20,40,60,80,100],rwidth=0.8)\n",
    "plt.show()"
   ]
  },
  {
   "cell_type": "code",
   "execution_count": 30,
   "metadata": {},
   "outputs": [
    {
     "data": {
      "image/png": "[encoded data removed]",
      "text/plain": [
       "<Figure size 432x288 with 1 Axes>"
      ]
     },
     "metadata": {
      "needs_background": "light"
     },
     "output_type": "display_data"
    }
   ],
   "source": [
    "# a scatter plot comparing age and GDP ($ per capita)\t\n",
    "df_forbes_merge.plot(kind='scatter',x='age',y='GDP ($ per capita)',color='red')\n",
    "plt.show()"
   ]
  },
  {
   "cell_type": "code",
   "execution_count": null,
   "metadata": {},
   "outputs": [],
   "source": []
  }
 ],
 "metadata": {
  "kernelspec": {
   "display_name": "Python [conda env:data_env]",
   "language": "python",
   "name": "conda-env-data_env-py"
  },
  "language_info": {
   "codemirror_mode": {
    "name": "ipython",
    "version": 3
   },
   "file_extension": ".py",
   "mimetype": "text/x-python",
   "name": "python",
   "nbconvert_exporter": "python",
   "pygments_lexer": "ipython3",
   "version": "3.7.5"
  }
 },
 "nbformat": 4,
 "nbformat_minor": 4
}
