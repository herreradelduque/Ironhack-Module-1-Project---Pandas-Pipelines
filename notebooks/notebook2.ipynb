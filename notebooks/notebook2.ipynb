{
 "cells": [
  {
   "cell_type": "code",
   "execution_count": 35,
   "metadata": {},
   "outputs": [],
   "source": [
    "import requests\n",
    "import pandas as pd"
   ]
  },
  {
   "cell_type": "markdown",
   "metadata": {},
   "source": [
    "Completing the missing data.\n",
    "\n",
    "First try getting the scraped url: "
   ]
  },
  {
   "cell_type": "code",
   "execution_count": 28,
   "metadata": {},
   "outputs": [
    {
     "data": {
      "text/plain": [
       "8927"
      ]
     },
     "execution_count": 28,
     "metadata": {},
     "output_type": "execute_result"
    }
   ],
   "source": [
    "url = 'https://www.kaggle.com/soubenz/forbes-top-billionaires-list-2018/download'\n",
    "\n",
    "r = requests.get(url,allow_redirects=True)\n",
    "\n",
    "open('../data/raw/forbes-top-billionaires-list-2018.zip','wb').write(r.content)"
   ]
  },
  {
   "cell_type": "markdown",
   "metadata": {},
   "source": [
    "We get one file (zip) but it doesn't work.\n",
    "\n",
    "We analize the redirect:"
   ]
  },
  {
   "cell_type": "code",
   "execution_count": 25,
   "metadata": {},
   "outputs": [
    {
     "name": "stdout",
     "output_type": "stream",
     "text": [
      "Request was redirected\n",
      "302 https://www.kaggle.com/soubenz/forbes-top-billionaires-list-2018/download\n",
      "Final destination:\n",
      "200 https://www.kaggle.com/account/login?returnUrl=%2Fsoubenz%2Fforbes-top-billionaires-list-2018%2Fdata\n"
     ]
    }
   ],
   "source": [
    "response = requests.get('https://www.kaggle.com/soubenz/forbes-top-billionaires-list-2018/download')\n",
    "if response.history:\n",
    "    print(\"Request was redirected\")\n",
    "    for resp in response.history:\n",
    "        print(resp.status_code, resp.url)\n",
    "    print(\"Final destination:\")\n",
    "    print(response.status_code, response.url)\n",
    "else:\n",
    "    print(\"Request was not redirected\")"
   ]
  },
  {
   "cell_type": "markdown",
   "metadata": {},
   "source": [
    "We see that we do not arrive to the final url (to the zip file) because of the logging, but we can get the final url analizing with Google inspector:"
   ]
  },
  {
   "cell_type": "code",
   "execution_count": 30,
   "metadata": {},
   "outputs": [
    {
     "data": {
      "text/plain": [
       "115140"
      ]
     },
     "execution_count": 30,
     "metadata": {},
     "output_type": "execute_result"
    }
   ],
   "source": [
    "url = 'https://storage.googleapis.com/kaggle-data-sets/33081/43334/bundle/archive.zip?GoogleAccessId=web-data@kaggle-161607.iam.gserviceaccount.com&Expires=1577444456&Signature=s1ps2cSD66ljVlrSc7GxNSd36grxjA6Ih1PUrWntmvYrjqKRs4PnNkwSvdZrhx5pLm944%2FTNadtVV%2Fwm712VJJ%2Bhwq13IvDKGl4uv9ZxXSa7rNmZj5Mcqx6j2TYCUiIACGbmgQJQHt8BOOa6KYz7EaJR128%2Bn9E8WF0tZGa0oaLnMgZZk3i2IamdOkL9BnSr1EuzL9pvIL3uP1l7lhuIEXCdFRe79cr8AbNTAB269FE6%2BRNPS%2Bmx55wnp9MWbcCAgNZyEzxLPNcM0liI9w5pQY6OQIGfruWLUgX0ObS53SQmXCRMeUTm3o%2BlBuq1qFCbVxDsdfgcufX3ydCigZ0GvQ%3D%3D&response-content-disposition=attachment%3B+filename%3Dforbes-top-billionaires-list-2018.zip'\n",
    "\n",
    "r = requests.get(url)\n",
    "\n",
    "open('../data/raw/forbes-top-billionaires-list-2018.zip','wb').write(r.content)"
   ]
  },
  {
   "cell_type": "code",
   "execution_count": 50,
   "metadata": {},
   "outputs": [
    {
     "data": {
      "text/plain": [
       "8927"
      ]
     },
     "execution_count": 50,
     "metadata": {},
     "output_type": "execute_result"
    }
   ],
   "source": [
    "url = 'https://www.kaggle.com/fernandol/countries-of-the-world/download'\n",
    "\n",
    "r = requests.get(url,allow_redirects=True)\n",
    "\n",
    "open('../data/raw/world-countries.zip','wb').write(r.content)"
   ]
  },
  {
   "cell_type": "code",
   "execution_count": 49,
   "metadata": {},
   "outputs": [
    {
     "name": "stdout",
     "output_type": "stream",
     "text": [
      "Request was redirected\n",
      "302 https://www.kaggle.com/fernandol/countries-of-the-world/download\n",
      "Final destination:\n",
      "200 https://www.kaggle.com/account/login?returnUrl=%2Ffernandol%2Fcountries-of-the-world%2Fdata\n"
     ]
    }
   ],
   "source": [
    "response = requests.get('https://www.kaggle.com/fernandol/countries-of-the-world/download')\n",
    "if response.history:\n",
    "    print(\"Request was redirected\")\n",
    "    for resp in response.history:\n",
    "        print(resp.status_code, resp.url)\n",
    "    print(\"Final destination:\")\n",
    "    print(response.status_code, response.url)\n",
    "else:\n",
    "    print(\"Request was not redirected\")"
   ]
  },
  {
   "cell_type": "code",
   "execution_count": 53,
   "metadata": {},
   "outputs": [
    {
     "data": {
      "text/plain": [
       "13735"
      ]
     },
     "execution_count": 53,
     "metadata": {},
     "output_type": "execute_result"
    }
   ],
   "source": [
    "url = 'https://storage.googleapis.com/kaggle-data-sets/23752/30346/bundle/archive.zip?GoogleAccessId=web-data@kaggle-161607.iam.gserviceaccount.com&Expires=1577448698&Signature=Bn2qMZEnH4OGTT9Z4OilcruHfey5fE6kdmjPNh9Uw%2FXEnc%2FhHShAlXL72jlUQq4wXHQhbQYva%2FS1YkwnZI0xLFdlbToJNENPRyev%2Btfq9vr129kVxPtBio7m3ivB3wdbysUdN2exAmaZ0Phi%2B7%2BzE5CXnDQiJqBkjt1QmM4M8o0CYvyXIJM4zQIIUyqP9d5O4%2Ba44oZQjkfNZN2lLqmossiq0ZI5%2FeR1HwUuHf7OYUrc3nQi9%2BC5BX%2FHf30MZBLPDpWfvBll4Cir9D6QmgYEOO9pURmt8r9%2BLrJmFGAv4AnXdKxXHaXEHxjvNP7Ew67OTLCCec%2BxHLKtn9zuFoYNZA%3D%3D&response-content-disposition=attachment%3B+filename%3Dcountries-of-the-world.zip'\n",
    "\n",
    "r = requests.get(url,allow_redirects=True)\n",
    "\n",
    "open('../data/raw/world-countries.zip','wb').write(r.content)"
   ]
  },
  {
   "cell_type": "code",
   "execution_count": 43,
   "metadata": {},
   "outputs": [
    {
     "data": {
      "text/html": [
       "<div>\n",
       "<style scoped>\n",
       "    .dataframe tbody tr th:only-of-type {\n",
       "        vertical-align: middle;\n",
       "    }\n",
       "\n",
       "    .dataframe tbody tr th {\n",
       "        vertical-align: top;\n",
       "    }\n",
       "\n",
       "    .dataframe thead th {\n",
       "        text-align: right;\n",
       "    }\n",
       "</style>\n",
       "<table border=\"1\" class=\"dataframe\">\n",
       "  <thead>\n",
       "    <tr style=\"text-align: right;\">\n",
       "      <th></th>\n",
       "      <th>position</th>\n",
       "      <th>name</th>\n",
       "      <th>lastName</th>\n",
       "      <th>age</th>\n",
       "      <th>country</th>\n",
       "      <th>gender</th>\n",
       "      <th>wealthSource</th>\n",
       "      <th>industry</th>\n",
       "      <th>worth</th>\n",
       "      <th>worthChange</th>\n",
       "      <th>realTimeWorth</th>\n",
       "      <th>realTimePosition</th>\n",
       "      <th>image</th>\n",
       "    </tr>\n",
       "  </thead>\n",
       "  <tbody>\n",
       "    <tr>\n",
       "      <th>0</th>\n",
       "      <td>NaN</td>\n",
       "      <td>Anant Asavabhokhin &amp; family</td>\n",
       "      <td>Asavabhokhin</td>\n",
       "      <td>67.0</td>\n",
       "      <td>Thailand</td>\n",
       "      <td>M</td>\n",
       "      <td>real estate</td>\n",
       "      <td>Real Estate</td>\n",
       "      <td>NaN</td>\n",
       "      <td>-0.001</td>\n",
       "      <td>NaN</td>\n",
       "      <td>1613</td>\n",
       "      <td>https://specials-images.forbesimg.com/imageser...</td>\n",
       "    </tr>\n",
       "    <tr>\n",
       "      <th>1</th>\n",
       "      <td>NaN</td>\n",
       "      <td>Arash Ferdowsi</td>\n",
       "      <td>Ferdowsi</td>\n",
       "      <td>32.0</td>\n",
       "      <td>United States</td>\n",
       "      <td>M</td>\n",
       "      <td>online file storage</td>\n",
       "      <td>Technology</td>\n",
       "      <td>NaN</td>\n",
       "      <td>0.000</td>\n",
       "      <td>NaN</td>\n",
       "      <td>1734</td>\n",
       "      <td>https://specials-images.forbesimg.com/imageser...</td>\n",
       "    </tr>\n",
       "    <tr>\n",
       "      <th>2</th>\n",
       "      <td>NaN</td>\n",
       "      <td>Banthoon Lamsam &amp; family</td>\n",
       "      <td>Lamsam</td>\n",
       "      <td>65.0</td>\n",
       "      <td>Thailand</td>\n",
       "      <td>M</td>\n",
       "      <td>banking</td>\n",
       "      <td>Finance and Investments</td>\n",
       "      <td>NaN</td>\n",
       "      <td>0.001</td>\n",
       "      <td>NaN</td>\n",
       "      <td>1952</td>\n",
       "      <td>https://specials-images.forbesimg.com/imageser...</td>\n",
       "    </tr>\n",
       "    <tr>\n",
       "      <th>3</th>\n",
       "      <td>NaN</td>\n",
       "      <td>Bill Adderley &amp; family</td>\n",
       "      <td>Adderley</td>\n",
       "      <td>70.0</td>\n",
       "      <td>United Kingdom</td>\n",
       "      <td>M</td>\n",
       "      <td>home furnishings</td>\n",
       "      <td>Fashion &amp; Retail</td>\n",
       "      <td>NaN</td>\n",
       "      <td>0.000</td>\n",
       "      <td>NaN</td>\n",
       "      <td>1956</td>\n",
       "      <td>https://specials-images.forbesimg.com/imageser...</td>\n",
       "    </tr>\n",
       "    <tr>\n",
       "      <th>4</th>\n",
       "      <td>NaN</td>\n",
       "      <td>Boris Zingarevich</td>\n",
       "      <td>Zingarevich</td>\n",
       "      <td>58.0</td>\n",
       "      <td>Russia</td>\n",
       "      <td>M</td>\n",
       "      <td>pulp and paper, diversified</td>\n",
       "      <td>Diversified</td>\n",
       "      <td>NaN</td>\n",
       "      <td>0.000</td>\n",
       "      <td>NaN</td>\n",
       "      <td>2103</td>\n",
       "      <td>https://specials-images.forbesimg.com/imageser...</td>\n",
       "    </tr>\n",
       "  </tbody>\n",
       "</table>\n",
       "</div>"
      ],
      "text/plain": [
       "   position                         name      lastName   age         country  \\\n",
       "0       NaN  Anant Asavabhokhin & family  Asavabhokhin  67.0        Thailand   \n",
       "1       NaN               Arash Ferdowsi      Ferdowsi  32.0   United States   \n",
       "2       NaN     Banthoon Lamsam & family        Lamsam  65.0        Thailand   \n",
       "3       NaN       Bill Adderley & family      Adderley  70.0  United Kingdom   \n",
       "4       NaN            Boris Zingarevich   Zingarevich  58.0          Russia   \n",
       "\n",
       "  gender                 wealthSource                 industry  worth  \\\n",
       "0      M                  real estate              Real Estate    NaN   \n",
       "1      M          online file storage               Technology    NaN   \n",
       "2      M                      banking  Finance and Investments    NaN   \n",
       "3      M             home furnishings         Fashion & Retail    NaN   \n",
       "4      M  pulp and paper, diversified              Diversified    NaN   \n",
       "\n",
       "   worthChange  realTimeWorth  realTimePosition  \\\n",
       "0       -0.001            NaN              1613   \n",
       "1        0.000            NaN              1734   \n",
       "2        0.001            NaN              1952   \n",
       "3        0.000            NaN              1956   \n",
       "4        0.000            NaN              2103   \n",
       "\n",
       "                                               image  \n",
       "0  https://specials-images.forbesimg.com/imageser...  \n",
       "1  https://specials-images.forbesimg.com/imageser...  \n",
       "2  https://specials-images.forbesimg.com/imageser...  \n",
       "3  https://specials-images.forbesimg.com/imageser...  \n",
       "4  https://specials-images.forbesimg.com/imageser...  "
      ]
     },
     "execution_count": 43,
     "metadata": {},
     "output_type": "execute_result"
    }
   ],
   "source": [
    "df_forbes = pd.read_csv('../data/raw/forbes-top-billionaires-list-2018.zip')\n",
    "df_forbes.head(5)"
   ]
  },
  {
   "cell_type": "code",
   "execution_count": 54,
   "metadata": {},
   "outputs": [
    {
     "data": {
      "text/html": [
       "<div>\n",
       "<style scoped>\n",
       "    .dataframe tbody tr th:only-of-type {\n",
       "        vertical-align: middle;\n",
       "    }\n",
       "\n",
       "    .dataframe tbody tr th {\n",
       "        vertical-align: top;\n",
       "    }\n",
       "\n",
       "    .dataframe thead th {\n",
       "        text-align: right;\n",
       "    }\n",
       "</style>\n",
       "<table border=\"1\" class=\"dataframe\">\n",
       "  <thead>\n",
       "    <tr style=\"text-align: right;\">\n",
       "      <th></th>\n",
       "      <th>Country</th>\n",
       "      <th>Region</th>\n",
       "      <th>Population</th>\n",
       "      <th>Area (sq. mi.)</th>\n",
       "      <th>Pop. Density (per sq. mi.)</th>\n",
       "      <th>Coastline (coast/area ratio)</th>\n",
       "      <th>Net migration</th>\n",
       "      <th>Infant mortality (per 1000 births)</th>\n",
       "      <th>GDP ($ per capita)</th>\n",
       "      <th>Literacy (%)</th>\n",
       "      <th>Phones (per 1000)</th>\n",
       "      <th>Arable (%)</th>\n",
       "      <th>Crops (%)</th>\n",
       "      <th>Other (%)</th>\n",
       "      <th>Climate</th>\n",
       "      <th>Birthrate</th>\n",
       "      <th>Deathrate</th>\n",
       "      <th>Agriculture</th>\n",
       "      <th>Industry</th>\n",
       "      <th>Service</th>\n",
       "    </tr>\n",
       "  </thead>\n",
       "  <tbody>\n",
       "    <tr>\n",
       "      <th>0</th>\n",
       "      <td>Afghanistan</td>\n",
       "      <td>ASIA (EX. NEAR EAST)</td>\n",
       "      <td>31056997</td>\n",
       "      <td>647500</td>\n",
       "      <td>48,0</td>\n",
       "      <td>0,00</td>\n",
       "      <td>23,06</td>\n",
       "      <td>163,07</td>\n",
       "      <td>700.0</td>\n",
       "      <td>36,0</td>\n",
       "      <td>3,2</td>\n",
       "      <td>12,13</td>\n",
       "      <td>0,22</td>\n",
       "      <td>87,65</td>\n",
       "      <td>1</td>\n",
       "      <td>46,6</td>\n",
       "      <td>20,34</td>\n",
       "      <td>0,38</td>\n",
       "      <td>0,24</td>\n",
       "      <td>0,38</td>\n",
       "    </tr>\n",
       "    <tr>\n",
       "      <th>1</th>\n",
       "      <td>Albania</td>\n",
       "      <td>EASTERN EUROPE</td>\n",
       "      <td>3581655</td>\n",
       "      <td>28748</td>\n",
       "      <td>124,6</td>\n",
       "      <td>1,26</td>\n",
       "      <td>-4,93</td>\n",
       "      <td>21,52</td>\n",
       "      <td>4500.0</td>\n",
       "      <td>86,5</td>\n",
       "      <td>71,2</td>\n",
       "      <td>21,09</td>\n",
       "      <td>4,42</td>\n",
       "      <td>74,49</td>\n",
       "      <td>3</td>\n",
       "      <td>15,11</td>\n",
       "      <td>5,22</td>\n",
       "      <td>0,232</td>\n",
       "      <td>0,188</td>\n",
       "      <td>0,579</td>\n",
       "    </tr>\n",
       "    <tr>\n",
       "      <th>2</th>\n",
       "      <td>Algeria</td>\n",
       "      <td>NORTHERN AFRICA</td>\n",
       "      <td>32930091</td>\n",
       "      <td>2381740</td>\n",
       "      <td>13,8</td>\n",
       "      <td>0,04</td>\n",
       "      <td>-0,39</td>\n",
       "      <td>31</td>\n",
       "      <td>6000.0</td>\n",
       "      <td>70,0</td>\n",
       "      <td>78,1</td>\n",
       "      <td>3,22</td>\n",
       "      <td>0,25</td>\n",
       "      <td>96,53</td>\n",
       "      <td>1</td>\n",
       "      <td>17,14</td>\n",
       "      <td>4,61</td>\n",
       "      <td>0,101</td>\n",
       "      <td>0,6</td>\n",
       "      <td>0,298</td>\n",
       "    </tr>\n",
       "    <tr>\n",
       "      <th>3</th>\n",
       "      <td>American Samoa</td>\n",
       "      <td>OCEANIA</td>\n",
       "      <td>57794</td>\n",
       "      <td>199</td>\n",
       "      <td>290,4</td>\n",
       "      <td>58,29</td>\n",
       "      <td>-20,71</td>\n",
       "      <td>9,27</td>\n",
       "      <td>8000.0</td>\n",
       "      <td>97,0</td>\n",
       "      <td>259,5</td>\n",
       "      <td>10</td>\n",
       "      <td>15</td>\n",
       "      <td>75</td>\n",
       "      <td>2</td>\n",
       "      <td>22,46</td>\n",
       "      <td>3,27</td>\n",
       "      <td>NaN</td>\n",
       "      <td>NaN</td>\n",
       "      <td>NaN</td>\n",
       "    </tr>\n",
       "    <tr>\n",
       "      <th>4</th>\n",
       "      <td>Andorra</td>\n",
       "      <td>WESTERN EUROPE</td>\n",
       "      <td>71201</td>\n",
       "      <td>468</td>\n",
       "      <td>152,1</td>\n",
       "      <td>0,00</td>\n",
       "      <td>6,6</td>\n",
       "      <td>4,05</td>\n",
       "      <td>19000.0</td>\n",
       "      <td>100,0</td>\n",
       "      <td>497,2</td>\n",
       "      <td>2,22</td>\n",
       "      <td>0</td>\n",
       "      <td>97,78</td>\n",
       "      <td>3</td>\n",
       "      <td>8,71</td>\n",
       "      <td>6,25</td>\n",
       "      <td>NaN</td>\n",
       "      <td>NaN</td>\n",
       "      <td>NaN</td>\n",
       "    </tr>\n",
       "  </tbody>\n",
       "</table>\n",
       "</div>"
      ],
      "text/plain": [
       "           Country                               Region  Population  \\\n",
       "0     Afghanistan         ASIA (EX. NEAR EAST)             31056997   \n",
       "1         Albania   EASTERN EUROPE                          3581655   \n",
       "2         Algeria   NORTHERN AFRICA                        32930091   \n",
       "3  American Samoa   OCEANIA                                   57794   \n",
       "4         Andorra   WESTERN EUROPE                            71201   \n",
       "\n",
       "   Area (sq. mi.) Pop. Density (per sq. mi.) Coastline (coast/area ratio)  \\\n",
       "0          647500                       48,0                         0,00   \n",
       "1           28748                      124,6                         1,26   \n",
       "2         2381740                       13,8                         0,04   \n",
       "3             199                      290,4                        58,29   \n",
       "4             468                      152,1                         0,00   \n",
       "\n",
       "  Net migration Infant mortality (per 1000 births)  GDP ($ per capita)  \\\n",
       "0         23,06                             163,07               700.0   \n",
       "1         -4,93                              21,52              4500.0   \n",
       "2         -0,39                                 31              6000.0   \n",
       "3        -20,71                               9,27              8000.0   \n",
       "4           6,6                               4,05             19000.0   \n",
       "\n",
       "  Literacy (%) Phones (per 1000) Arable (%) Crops (%) Other (%) Climate  \\\n",
       "0         36,0               3,2      12,13      0,22     87,65       1   \n",
       "1         86,5              71,2      21,09      4,42     74,49       3   \n",
       "2         70,0              78,1       3,22      0,25     96,53       1   \n",
       "3         97,0             259,5         10        15        75       2   \n",
       "4        100,0             497,2       2,22         0     97,78       3   \n",
       "\n",
       "  Birthrate Deathrate Agriculture Industry Service  \n",
       "0      46,6     20,34        0,38     0,24    0,38  \n",
       "1     15,11      5,22       0,232    0,188   0,579  \n",
       "2     17,14      4,61       0,101      0,6   0,298  \n",
       "3     22,46      3,27         NaN      NaN     NaN  \n",
       "4      8,71      6,25         NaN      NaN     NaN  "
      ]
     },
     "execution_count": 54,
     "metadata": {},
     "output_type": "execute_result"
    }
   ],
   "source": [
    "df_countries = pd.read_csv('../data/raw/world-countries.zip')\n",
    "df_countries.head()"
   ]
  },
  {
   "cell_type": "code",
   "execution_count": null,
   "metadata": {},
   "outputs": [],
   "source": []
  }
 ],
 "metadata": {
  "kernelspec": {
   "display_name": "Python [conda env:data_env]",
   "language": "python",
   "name": "conda-env-data_env-py"
  },
  "language_info": {
   "codemirror_mode": {
    "name": "ipython",
    "version": 3
   },
   "file_extension": ".py",
   "mimetype": "text/x-python",
   "name": "python",
   "nbconvert_exporter": "python",
   "pygments_lexer": "ipython3",
   "version": "3.7.5"
  }
 },
 "nbformat": 4,
 "nbformat_minor": 4
}
